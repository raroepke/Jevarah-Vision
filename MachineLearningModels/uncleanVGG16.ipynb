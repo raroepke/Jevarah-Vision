{
  "nbformat": 4,
  "nbformat_minor": 0,
  "metadata": {
    "colab": {
      "name": "VGG16.ipynb",
      "provenance": [],
      "include_colab_link": true
    },
    "kernelspec": {
      "name": "python3",
      "display_name": "Python 3"
    },
    "accelerator": "GPU"
  },
  "cells": [
    {
      "cell_type": "markdown",
      "metadata": {
        "id": "view-in-github",
        "colab_type": "text"
      },
      "source": [
        "<a href=\"https://colab.research.google.com/github/AvaPodrazhansky/Jevarah-Vision/blob/master/MachineLearningModels/uncleanVGG16.ipynb\" target=\"_parent\"><img src=\"https://colab.research.google.com/assets/colab-badge.svg\" alt=\"Open In Colab\"/></a>"
      ]
    },
    {
      "cell_type": "code",
      "metadata": {
        "id": "-U9Lt-CnVsGo",
        "colab_type": "code",
        "colab": {
          "base_uri": "https://localhost:8080/",
          "height": 50
        },
        "outputId": "9673b56b-b721-499b-df2d-667300893d56"
      },
      "source": [
        "#imports for keras\n",
        "%tensorflow_version 1.x\n",
        "import keras\n",
        "import numpy as np\n",
        "from keras import backend as K\n",
        "from keras.models import Sequential\n",
        "from keras.layers import Activation\n",
        "from keras.layers.core import Dense, Flatten\n",
        "from keras.optimizers import Adam \n",
        "from keras.metrics import categorical_crossentropy\n",
        "from keras.preprocessing.image import ImageDataGenerator\n",
        "from keras.layers.normalization import BatchNormalization\n",
        "from keras.layers.convolutional import *\n",
        "from keras.layers import Dense, Conv2D, MaxPool2D , Flatten\n",
        "import matplotlib.pyplot as plt\n",
        "from tensorflow.keras.utils import plot_model"
      ],
      "execution_count": 2,
      "outputs": [
        {
          "output_type": "stream",
          "text": [
            "TensorFlow 1.x selected.\n"
          ],
          "name": "stdout"
        },
        {
          "output_type": "stream",
          "text": [
            "Using TensorFlow backend.\n"
          ],
          "name": "stderr"
        }
      ]
    },
    {
      "cell_type": "code",
      "metadata": {
        "id": "VBj4xSKsCj2u",
        "colab_type": "code",
        "colab": {}
      },
      "source": [
        "from numpy import array\n",
        "from numpy import argmax\n",
        "from sklearn.metrics import confusion_matrix\n",
        "import itertools\n",
        "%matplotlib inline"
      ],
      "execution_count": 0,
      "outputs": []
    },
    {
      "cell_type": "code",
      "metadata": {
        "id": "Tga1A2WIbfNM",
        "colab_type": "code",
        "colab": {}
      },
      "source": [
        "train_path = '/content/drive/My Drive/original244uncleaned/train'\n",
        "test_path = '/content/drive/My Drive/original244uncleaned/test'\n",
        "valid_path = '/content/drive/My Drive/original244uncleaned/valid'"
      ],
      "execution_count": 0,
      "outputs": []
    },
    {
      "cell_type": "code",
      "metadata": {
        "id": "Ta-zfZQ6bmc_",
        "colab_type": "code",
        "outputId": "40ca2576-9a59-4a85-cfde-da72f999e613",
        "colab": {
          "base_uri": "https://localhost:8080/",
          "height": 66
        }
      },
      "source": [
        "train_batches = ImageDataGenerator().flow_from_directory(train_path, target_size=(224,224),classes=['nevus','basal_cell_carcinoma','vascular_lesion'],batch_size=10)\n",
        "test_batches = ImageDataGenerator().flow_from_directory(test_path, target_size=(224,224),classes=['nevus','basal_cell_carcinoma','vascular_lesion'],batch_size=119)\n",
        "valid_batches = ImageDataGenerator().flow_from_directory(valid_path, target_size=(224,224),classes=['nevus','basal_cell_carcinoma','vascular_lesion'],batch_size=10)"
      ],
      "execution_count": 5,
      "outputs": [
        {
          "output_type": "stream",
          "text": [
            "Found 950 images belonging to 3 classes.\n",
            "Found 119 images belonging to 3 classes.\n",
            "Found 119 images belonging to 3 classes.\n"
          ],
          "name": "stdout"
        }
      ]
    },
    {
      "cell_type": "code",
      "metadata": {
        "id": "6jDkVtk8brW4",
        "colab_type": "code",
        "colab": {}
      },
      "source": [
        "imgs, labels = next(train_batches)"
      ],
      "execution_count": 0,
      "outputs": []
    },
    {
      "cell_type": "code",
      "metadata": {
        "id": "KnelcikIbtNd",
        "colab_type": "code",
        "colab": {}
      },
      "source": [
        "# plots images with labels within jupyter notebook\n",
        "def plots(ims, figsize=(12,6), rows=1, interp=False, titles=None):\n",
        "    if type(ims[0]) is np.ndarray:\n",
        "        ims = np.array(ims).astype(np.uint8)\n",
        "        if (ims.shape[-1] != 3):\n",
        "            ims = ims.transpose((0,2,3,1))\n",
        "    f = plt.figure(figsize=figsize)\n",
        "    cols = len(ims)//rows if len(ims) % 2 == 0 else len(ims)//rows + 1\n",
        "    for i in range(len(ims)):\n",
        "        sp = f.add_subplot(rows, cols, i+1)\n",
        "        sp.axis('Off')\n",
        "        if titles is not None:\n",
        "            sp.set_title(titles[i], fontsize=16)\n",
        "        plt.imshow(ims[i], interpolation=None if interp else 'none')"
      ],
      "execution_count": 0,
      "outputs": []
    },
    {
      "cell_type": "code",
      "metadata": {
        "id": "V8NoIyAdbvm7",
        "colab_type": "code",
        "outputId": "794e47e2-f466-4753-b6b1-9b43a88ed1ce",
        "colab": {
          "base_uri": "https://localhost:8080/",
          "height": 138
        }
      },
      "source": [
        "plots(imgs, titles=labels)"
      ],
      "execution_count": 8,
      "outputs": [
        {
          "output_type": "stream",
          "text": [
            "/usr/local/lib/python3.6/dist-packages/matplotlib/text.py:1165: FutureWarning: elementwise comparison failed; returning scalar instead, but in the future will perform elementwise comparison\n",
            "  if s != self._text:\n"
          ],
          "name": "stderr"
        },
        {
          "output_type": "display_data",
          "data": {
            "image/png": "[encoded data removed]",
            "text/plain": [
              "<Figure size 864x432 with 10 Axes>"
            ]
          },
          "metadata": {
            "tags": [],
            "needs_background": "light"
          }
        }
      ]
    },
    {
      "cell_type": "code",
      "metadata": {
        "id": "PKgKCGY-bxc5",
        "colab_type": "code",
        "outputId": "d12e092d-9357-46e7-c652-a46b020f8d86",
        "colab": {
          "base_uri": "https://localhost:8080/",
          "height": 118
        }
      },
      "source": [
        "model = Sequential()\n",
        "model.add(Conv2D(input_shape=(224,224,3),filters=64,kernel_size=(3,3),padding=\"same\", activation=\"relu\"))\n",
        "model.add(Conv2D(filters=64,kernel_size=(3,3),padding=\"same\", activation=\"relu\"))\n",
        "model.add(MaxPool2D(pool_size=(2,2),strides=(2,2)))\n",
        "model.add(Conv2D(filters=128, kernel_size=(3,3), padding=\"same\", activation=\"relu\"))\n",
        "model.add(Conv2D(filters=128, kernel_size=(3,3), padding=\"same\", activation=\"relu\"))\n",
        "model.add(MaxPool2D(pool_size=(2,2),strides=(2,2)))\n",
        "model.add(Conv2D(filters=256, kernel_size=(3,3), padding=\"same\", activation=\"relu\"))\n",
        "model.add(Conv2D(filters=256, kernel_size=(3,3), padding=\"same\", activation=\"relu\"))\n",
        "model.add(Conv2D(filters=256, kernel_size=(3,3), padding=\"same\", activation=\"relu\"))\n",
        "model.add(MaxPool2D(pool_size=(2,2),strides=(2,2)))\n",
        "model.add(Conv2D(filters=512, kernel_size=(3,3), padding=\"same\", activation=\"relu\"))\n",
        "model.add(Conv2D(filters=512, kernel_size=(3,3), padding=\"same\", activation=\"relu\"))\n",
        "model.add(Conv2D(filters=512, kernel_size=(3,3), padding=\"same\", activation=\"relu\"))\n",
        "model.add(MaxPool2D(pool_size=(2,2),strides=(2,2)))\n",
        "model.add(Conv2D(filters=512, kernel_size=(3,3), padding=\"same\", activation=\"relu\"))\n",
        "model.add(Conv2D(filters=512, kernel_size=(3,3), padding=\"same\", activation=\"relu\"))\n",
        "model.add(Conv2D(filters=512, kernel_size=(3,3), padding=\"same\", activation=\"relu\"))\n",
        "model.add(MaxPool2D(pool_size=(2,2),strides=(2,2)))\n",
        "model.add(Flatten())\n",
        "model.add(Dense(units=4096,activation=\"relu\"))\n",
        "model.add(Dense(units=4096,activation=\"relu\"))\n",
        "model.add(Dense(units=3, activation=\"softmax\"))\n",
        "\n",
        "\n"
      ],
      "execution_count": 9,
      "outputs": [
        {
          "output_type": "stream",
          "text": [
            "WARNING:tensorflow:From /tensorflow-1.15.2/python3.6/tensorflow_core/python/ops/resource_variable_ops.py:1630: calling BaseResourceVariable.__init__ (from tensorflow.python.ops.resource_variable_ops) with constraint is deprecated and will be removed in a future version.\n",
            "Instructions for updating:\n",
            "If using Keras pass *_constraint arguments to layers.\n",
            "WARNING:tensorflow:From /usr/local/lib/python3.6/dist-packages/keras/backend/tensorflow_backend.py:4070: The name tf.nn.max_pool is deprecated. Please use tf.nn.max_pool2d instead.\n",
            "\n"
          ],
          "name": "stdout"
        }
      ]
    },
    {
      "cell_type": "code",
      "metadata": {
        "id": "ein2JCB2oxK0",
        "colab_type": "code",
        "colab": {}
      },
      "source": [
        "from keras.optimizers import Adam\n",
        "opt = Adam(lr=0.001)\n",
        "model.compile(optimizer=opt, loss=keras.losses.categorical_crossentropy, metrics=['accuracy'])"
      ],
      "execution_count": 0,
      "outputs": []
    },
    {
      "cell_type": "code",
      "metadata": {
        "id": "-mCeOQgsb1O8",
        "colab_type": "code",
        "outputId": "87c1e109-3ca4-463c-adbe-c8998593aece",
        "colab": {
          "base_uri": "https://localhost:8080/",
          "height": 1000
        }
      },
      "source": [
        "from keras.callbacks import ModelCheckpoint, EarlyStopping\n",
        "checkpoint = ModelCheckpoint(\"vgg16_1.h5\", monitor='val_acc', verbose=1, save_best_only=True, save_weights_only=False, mode='auto', period=1)\n",
        "early = EarlyStopping(monitor='val_acc', min_delta=0, patience=20, verbose=1, mode='auto')\n",
        "hist = model.fit_generator(steps_per_epoch=10,generator=train_batches, validation_data= valid_batches, validation_steps=2,epochs=100,callbacks=[checkpoint,early])"
      ],
      "execution_count": 11,
      "outputs": [
        {
          "output_type": "stream",
          "text": [
            "WARNING:tensorflow:From /usr/local/lib/python3.6/dist-packages/keras/backend/tensorflow_backend.py:422: The name tf.global_variables is deprecated. Please use tf.compat.v1.global_variables instead.\n",
            "\n",
            "Epoch 1/100\n",
            "10/10 [==============================] - 66s 7s/step - loss: 980.0278 - accuracy: 0.3000 - val_loss: 1.2282 - val_accuracy: 0.1500\n",
            "Epoch 2/100\n"
          ],
          "name": "stdout"
        },
        {
          "output_type": "stream",
          "text": [
            "/usr/local/lib/python3.6/dist-packages/keras/callbacks/callbacks.py:707: RuntimeWarning: Can save best model only with val_acc available, skipping.\n",
            "  'skipping.' % (self.monitor), RuntimeWarning)\n",
            "/usr/local/lib/python3.6/dist-packages/keras/callbacks/callbacks.py:846: RuntimeWarning: Early stopping conditioned on metric `val_acc` which is not available. Available metrics are: val_loss,val_accuracy,loss,accuracy\n",
            "  (self.monitor, ','.join(list(logs.keys()))), RuntimeWarning\n"
          ],
          "name": "stderr"
        },
        {
          "output_type": "stream",
          "text": [
            "10/10 [==============================] - 61s 6s/step - loss: 1.1644 - accuracy: 0.3100 - val_loss: 1.0995 - val_accuracy: 0.3500\n",
            "Epoch 3/100\n",
            "10/10 [==============================] - 61s 6s/step - loss: 1.0909 - accuracy: 0.3500 - val_loss: 1.5129 - val_accuracy: 0.3000\n",
            "Epoch 4/100\n",
            "10/10 [==============================] - 65s 6s/step - loss: 1.1028 - accuracy: 0.3300 - val_loss: 1.1332 - val_accuracy: 0.2000\n",
            "Epoch 5/100\n",
            "10/10 [==============================] - 60s 6s/step - loss: 1.1002 - accuracy: 0.2700 - val_loss: 1.1037 - val_accuracy: 0.2000\n",
            "Epoch 6/100\n",
            "10/10 [==============================] - 60s 6s/step - loss: 1.1011 - accuracy: 0.3000 - val_loss: 1.0839 - val_accuracy: 0.3158\n",
            "Epoch 7/100\n",
            "10/10 [==============================] - 59s 6s/step - loss: 1.1036 - accuracy: 0.2700 - val_loss: 1.1051 - val_accuracy: 0.2000\n",
            "Epoch 8/100\n",
            "10/10 [==============================] - 59s 6s/step - loss: 1.0900 - accuracy: 0.4500 - val_loss: 1.0917 - val_accuracy: 0.4500\n",
            "Epoch 9/100\n",
            "10/10 [==============================] - 59s 6s/step - loss: 1.1076 - accuracy: 0.3100 - val_loss: 1.0941 - val_accuracy: 0.5000\n",
            "Epoch 10/100\n",
            "10/10 [==============================] - 23s 2s/step - loss: 1.0903 - accuracy: 0.3800 - val_loss: 1.0885 - val_accuracy: 0.3000\n",
            "Epoch 11/100\n",
            "10/10 [==============================] - 1s 137ms/step - loss: 1.0985 - accuracy: 0.3000 - val_loss: 1.1451 - val_accuracy: 0.2000\n",
            "Epoch 12/100\n",
            "10/10 [==============================] - 1s 137ms/step - loss: 1.0863 - accuracy: 0.4500 - val_loss: 1.1083 - val_accuracy: 0.2105\n",
            "Epoch 13/100\n",
            "10/10 [==============================] - 1s 139ms/step - loss: 1.1077 - accuracy: 0.3300 - val_loss: 1.0783 - val_accuracy: 0.4500\n",
            "Epoch 14/100\n",
            "10/10 [==============================] - 1s 139ms/step - loss: 1.1008 - accuracy: 0.3500 - val_loss: 1.1443 - val_accuracy: 0.4000\n",
            "Epoch 15/100\n",
            "10/10 [==============================] - 1s 137ms/step - loss: 1.0998 - accuracy: 0.3200 - val_loss: 1.1250 - val_accuracy: 0.1000\n",
            "Epoch 16/100\n",
            "10/10 [==============================] - 1s 137ms/step - loss: 1.1005 - accuracy: 0.3200 - val_loss: 1.0953 - val_accuracy: 0.5000\n",
            "Epoch 17/100\n",
            "10/10 [==============================] - 1s 137ms/step - loss: 1.1002 - accuracy: 0.2800 - val_loss: 1.1057 - val_accuracy: 0.1500\n",
            "Epoch 18/100\n",
            "10/10 [==============================] - 1s 137ms/step - loss: 1.0993 - accuracy: 0.2900 - val_loss: 1.0909 - val_accuracy: 0.2632\n",
            "Epoch 19/100\n",
            "10/10 [==============================] - 1s 136ms/step - loss: 1.0927 - accuracy: 0.3600 - val_loss: 1.1132 - val_accuracy: 0.3500\n",
            "Epoch 20/100\n",
            "10/10 [==============================] - 1s 136ms/step - loss: 1.0916 - accuracy: 0.3800 - val_loss: 1.0947 - val_accuracy: 0.5000\n",
            "Epoch 21/100\n",
            "10/10 [==============================] - 1s 137ms/step - loss: 1.0926 - accuracy: 0.4300 - val_loss: 1.0781 - val_accuracy: 0.4000\n",
            "Epoch 22/100\n",
            "10/10 [==============================] - 1s 136ms/step - loss: 1.0812 - accuracy: 0.4300 - val_loss: 1.0693 - val_accuracy: 0.2500\n",
            "Epoch 23/100\n",
            "10/10 [==============================] - 1s 139ms/step - loss: 1.1069 - accuracy: 0.2800 - val_loss: 1.1430 - val_accuracy: 0.1500\n",
            "Epoch 24/100\n",
            "10/10 [==============================] - 1s 138ms/step - loss: 1.1039 - accuracy: 0.3100 - val_loss: 1.1227 - val_accuracy: 0.2105\n",
            "Epoch 25/100\n",
            "10/10 [==============================] - 1s 138ms/step - loss: 1.1109 - accuracy: 0.2900 - val_loss: 1.0820 - val_accuracy: 0.4500\n",
            "Epoch 26/100\n",
            "10/10 [==============================] - 1s 137ms/step - loss: 1.0965 - accuracy: 0.3200 - val_loss: 1.1072 - val_accuracy: 0.4500\n",
            "Epoch 27/100\n",
            "10/10 [==============================] - 1s 138ms/step - loss: 1.0964 - accuracy: 0.3100 - val_loss: 1.0859 - val_accuracy: 0.5500\n",
            "Epoch 28/100\n",
            "10/10 [==============================] - 1s 136ms/step - loss: 1.0933 - accuracy: 0.3600 - val_loss: 1.0842 - val_accuracy: 0.3000\n",
            "Epoch 29/100\n",
            "10/10 [==============================] - 1s 137ms/step - loss: 1.0978 - accuracy: 0.4500 - val_loss: 1.1190 - val_accuracy: 0.3500\n",
            "Epoch 30/100\n",
            "10/10 [==============================] - 1s 138ms/step - loss: 1.0922 - accuracy: 0.3100 - val_loss: 1.1128 - val_accuracy: 0.2105\n",
            "Epoch 31/100\n",
            "10/10 [==============================] - 1s 138ms/step - loss: 1.1077 - accuracy: 0.2600 - val_loss: 1.0677 - val_accuracy: 0.4500\n",
            "Epoch 32/100\n",
            "10/10 [==============================] - 1s 138ms/step - loss: 1.0902 - accuracy: 0.3500 - val_loss: 1.0968 - val_accuracy: 0.4000\n",
            "Epoch 33/100\n",
            "10/10 [==============================] - 1s 137ms/step - loss: 1.0976 - accuracy: 0.3600 - val_loss: 1.0822 - val_accuracy: 0.3500\n",
            "Epoch 34/100\n",
            "10/10 [==============================] - 1s 136ms/step - loss: 1.0937 - accuracy: 0.3300 - val_loss: 1.0954 - val_accuracy: 0.3000\n",
            "Epoch 35/100\n",
            "10/10 [==============================] - 1s 137ms/step - loss: 1.0876 - accuracy: 0.4100 - val_loss: 1.1156 - val_accuracy: 0.4000\n",
            "Epoch 36/100\n",
            "10/10 [==============================] - 1s 136ms/step - loss: 1.0988 - accuracy: 0.3300 - val_loss: 1.0852 - val_accuracy: 0.2105\n",
            "Epoch 37/100\n",
            "10/10 [==============================] - 1s 138ms/step - loss: 1.1162 - accuracy: 0.2600 - val_loss: 1.0944 - val_accuracy: 0.4500\n",
            "Epoch 38/100\n",
            "10/10 [==============================] - 1s 136ms/step - loss: 1.0972 - accuracy: 0.3600 - val_loss: 1.1284 - val_accuracy: 0.3500\n",
            "Epoch 39/100\n",
            "10/10 [==============================] - 1s 139ms/step - loss: 1.1040 - accuracy: 0.2700 - val_loss: 1.0874 - val_accuracy: 0.3500\n",
            "Epoch 40/100\n",
            "10/10 [==============================] - 1s 138ms/step - loss: 1.0913 - accuracy: 0.3900 - val_loss: 1.1060 - val_accuracy: 0.3500\n",
            "Epoch 41/100\n",
            "10/10 [==============================] - 1s 138ms/step - loss: 1.0970 - accuracy: 0.3900 - val_loss: 1.0955 - val_accuracy: 0.4500\n",
            "Epoch 42/100\n",
            "10/10 [==============================] - 1s 138ms/step - loss: 1.0984 - accuracy: 0.3100 - val_loss: 1.0899 - val_accuracy: 0.3684\n",
            "Epoch 43/100\n",
            "10/10 [==============================] - 1s 140ms/step - loss: 1.0842 - accuracy: 0.3700 - val_loss: 1.1103 - val_accuracy: 0.4000\n",
            "Epoch 44/100\n",
            "10/10 [==============================] - 1s 136ms/step - loss: 1.0966 - accuracy: 0.3800 - val_loss: 1.0961 - val_accuracy: 0.3500\n",
            "Epoch 45/100\n",
            "10/10 [==============================] - 1s 138ms/step - loss: 1.1003 - accuracy: 0.3100 - val_loss: 1.0959 - val_accuracy: 0.5000\n",
            "Epoch 46/100\n",
            "10/10 [==============================] - 1s 138ms/step - loss: 1.1045 - accuracy: 0.3200 - val_loss: 1.0969 - val_accuracy: 0.2500\n",
            "Epoch 47/100\n",
            "10/10 [==============================] - 1s 137ms/step - loss: 1.1007 - accuracy: 0.2800 - val_loss: 1.0962 - val_accuracy: 0.4000\n",
            "Epoch 48/100\n",
            "10/10 [==============================] - 1s 139ms/step - loss: 1.0964 - accuracy: 0.3600 - val_loss: 1.1092 - val_accuracy: 0.3158\n",
            "Epoch 49/100\n",
            "10/10 [==============================] - 1s 140ms/step - loss: 1.0994 - accuracy: 0.3900 - val_loss: 1.0953 - val_accuracy: 0.4000\n",
            "Epoch 50/100\n",
            "10/10 [==============================] - 1s 136ms/step - loss: 1.0900 - accuracy: 0.3600 - val_loss: 1.1063 - val_accuracy: 0.5000\n",
            "Epoch 51/100\n",
            "10/10 [==============================] - 1s 137ms/step - loss: 1.0982 - accuracy: 0.3300 - val_loss: 1.1535 - val_accuracy: 0.2000\n",
            "Epoch 52/100\n",
            "10/10 [==============================] - 1s 138ms/step - loss: 1.1009 - accuracy: 0.3200 - val_loss: 1.1201 - val_accuracy: 0.4000\n",
            "Epoch 53/100\n",
            "10/10 [==============================] - 1s 138ms/step - loss: 1.0967 - accuracy: 0.4100 - val_loss: 1.1329 - val_accuracy: 0.2500\n",
            "Epoch 54/100\n",
            "10/10 [==============================] - 1s 136ms/step - loss: 1.0882 - accuracy: 0.3600 - val_loss: 1.0811 - val_accuracy: 0.4211\n",
            "Epoch 55/100\n",
            "10/10 [==============================] - 1s 138ms/step - loss: 1.0902 - accuracy: 0.3500 - val_loss: 1.0930 - val_accuracy: 0.4500\n",
            "Epoch 56/100\n",
            "10/10 [==============================] - 1s 138ms/step - loss: 1.1032 - accuracy: 0.4000 - val_loss: 1.0947 - val_accuracy: 0.4500\n",
            "Epoch 57/100\n",
            "10/10 [==============================] - 1s 138ms/step - loss: 1.1086 - accuracy: 0.2800 - val_loss: 1.1214 - val_accuracy: 0.2500\n",
            "Epoch 58/100\n",
            "10/10 [==============================] - 1s 138ms/step - loss: 1.0937 - accuracy: 0.3200 - val_loss: 1.1103 - val_accuracy: 0.1500\n",
            "Epoch 59/100\n",
            "10/10 [==============================] - 1s 138ms/step - loss: 1.0912 - accuracy: 0.3000 - val_loss: 1.0833 - val_accuracy: 0.2000\n",
            "Epoch 60/100\n",
            "10/10 [==============================] - 1s 138ms/step - loss: 1.0995 - accuracy: 0.3000 - val_loss: 1.1014 - val_accuracy: 0.3158\n",
            "Epoch 61/100\n",
            "10/10 [==============================] - 1s 139ms/step - loss: 1.0938 - accuracy: 0.3300 - val_loss: 1.1311 - val_accuracy: 0.3500\n",
            "Epoch 62/100\n",
            "10/10 [==============================] - 1s 137ms/step - loss: 1.0980 - accuracy: 0.3200 - val_loss: 1.0957 - val_accuracy: 0.3500\n",
            "Epoch 63/100\n",
            "10/10 [==============================] - 1s 137ms/step - loss: 1.1058 - accuracy: 0.3100 - val_loss: 1.1254 - val_accuracy: 0.2000\n",
            "Epoch 64/100\n",
            "10/10 [==============================] - 1s 137ms/step - loss: 1.0928 - accuracy: 0.4400 - val_loss: 1.1044 - val_accuracy: 0.5500\n",
            "Epoch 65/100\n",
            "10/10 [==============================] - 1s 139ms/step - loss: 1.1028 - accuracy: 0.3100 - val_loss: 1.0723 - val_accuracy: 0.3500\n",
            "Epoch 66/100\n",
            "10/10 [==============================] - 1s 138ms/step - loss: 1.0932 - accuracy: 0.3600 - val_loss: 1.0975 - val_accuracy: 0.4211\n",
            "Epoch 67/100\n",
            "10/10 [==============================] - 1s 139ms/step - loss: 1.0986 - accuracy: 0.3400 - val_loss: 1.1164 - val_accuracy: 0.4000\n",
            "Epoch 68/100\n",
            "10/10 [==============================] - 1s 138ms/step - loss: 1.0941 - accuracy: 0.4000 - val_loss: 1.0975 - val_accuracy: 0.3500\n",
            "Epoch 69/100\n",
            "10/10 [==============================] - 1s 137ms/step - loss: 1.1029 - accuracy: 0.3500 - val_loss: 1.0873 - val_accuracy: 0.4000\n",
            "Epoch 70/100\n",
            "10/10 [==============================] - 1s 138ms/step - loss: 1.0988 - accuracy: 0.3400 - val_loss: 1.1249 - val_accuracy: 0.2000\n",
            "Epoch 71/100\n",
            "10/10 [==============================] - 1s 138ms/step - loss: 1.0943 - accuracy: 0.3500 - val_loss: 1.0942 - val_accuracy: 0.4500\n",
            "Epoch 72/100\n",
            "10/10 [==============================] - 1s 137ms/step - loss: 1.0919 - accuracy: 0.3700 - val_loss: 1.0829 - val_accuracy: 0.3684\n",
            "Epoch 73/100\n",
            "10/10 [==============================] - 1s 139ms/step - loss: 1.0939 - accuracy: 0.4200 - val_loss: 1.0887 - val_accuracy: 0.5500\n",
            "Epoch 74/100\n",
            "10/10 [==============================] - 1s 139ms/step - loss: 1.0967 - accuracy: 0.3000 - val_loss: 1.1197 - val_accuracy: 0.4000\n",
            "Epoch 75/100\n",
            "10/10 [==============================] - 1s 138ms/step - loss: 1.0979 - accuracy: 0.3300 - val_loss: 1.1313 - val_accuracy: 0.2000\n",
            "Epoch 76/100\n",
            "10/10 [==============================] - 1s 136ms/step - loss: 1.1017 - accuracy: 0.3100 - val_loss: 1.0782 - val_accuracy: 0.4000\n",
            "Epoch 77/100\n",
            "10/10 [==============================] - 1s 138ms/step - loss: 1.1006 - accuracy: 0.3300 - val_loss: 1.0959 - val_accuracy: 0.3500\n",
            "Epoch 78/100\n",
            "10/10 [==============================] - 1s 138ms/step - loss: 1.0906 - accuracy: 0.3600 - val_loss: 1.0849 - val_accuracy: 0.4211\n",
            "Epoch 79/100\n",
            "10/10 [==============================] - 1s 139ms/step - loss: 1.1050 - accuracy: 0.3400 - val_loss: 1.0965 - val_accuracy: 0.4000\n",
            "Epoch 80/100\n",
            "10/10 [==============================] - 1s 137ms/step - loss: 1.0808 - accuracy: 0.4000 - val_loss: 1.0816 - val_accuracy: 0.3000\n",
            "Epoch 81/100\n",
            "10/10 [==============================] - 1s 137ms/step - loss: 1.0933 - accuracy: 0.3200 - val_loss: 1.0787 - val_accuracy: 0.3000\n",
            "Epoch 82/100\n",
            "10/10 [==============================] - 1s 139ms/step - loss: 1.1102 - accuracy: 0.2400 - val_loss: 1.1104 - val_accuracy: 0.4000\n",
            "Epoch 83/100\n",
            "10/10 [==============================] - 1s 139ms/step - loss: 1.0871 - accuracy: 0.3800 - val_loss: 1.1450 - val_accuracy: 0.2500\n",
            "Epoch 84/100\n",
            "10/10 [==============================] - 1s 138ms/step - loss: 1.1008 - accuracy: 0.3600 - val_loss: 1.1200 - val_accuracy: 0.3158\n",
            "Epoch 85/100\n",
            "10/10 [==============================] - 1s 140ms/step - loss: 1.0983 - accuracy: 0.3300 - val_loss: 1.0985 - val_accuracy: 0.2500\n",
            "Epoch 86/100\n",
            "10/10 [==============================] - 1s 136ms/step - loss: 1.1039 - accuracy: 0.2900 - val_loss: 1.1073 - val_accuracy: 0.4000\n",
            "Epoch 87/100\n",
            "10/10 [==============================] - 1s 138ms/step - loss: 1.0955 - accuracy: 0.3600 - val_loss: 1.0947 - val_accuracy: 0.3500\n",
            "Epoch 88/100\n",
            "10/10 [==============================] - 1s 137ms/step - loss: 1.0897 - accuracy: 0.3900 - val_loss: 1.1241 - val_accuracy: 0.3500\n",
            "Epoch 89/100\n",
            "10/10 [==============================] - 1s 138ms/step - loss: 1.0943 - accuracy: 0.4400 - val_loss: 1.0971 - val_accuracy: 0.5000\n",
            "Epoch 90/100\n",
            "10/10 [==============================] - 1s 136ms/step - loss: 1.0985 - accuracy: 0.2700 - val_loss: 1.1041 - val_accuracy: 0.3158\n",
            "Epoch 91/100\n",
            "10/10 [==============================] - 1s 139ms/step - loss: 1.1021 - accuracy: 0.2800 - val_loss: 1.0643 - val_accuracy: 0.4000\n",
            "Epoch 92/100\n",
            "10/10 [==============================] - 1s 137ms/step - loss: 1.1084 - accuracy: 0.3300 - val_loss: 1.1350 - val_accuracy: 0.1500\n",
            "Epoch 93/100\n",
            "10/10 [==============================] - 1s 137ms/step - loss: 1.0892 - accuracy: 0.3600 - val_loss: 1.1072 - val_accuracy: 0.2500\n",
            "Epoch 94/100\n",
            "10/10 [==============================] - 1s 136ms/step - loss: 1.0980 - accuracy: 0.3200 - val_loss: 1.0954 - val_accuracy: 0.4000\n",
            "Epoch 95/100\n",
            "10/10 [==============================] - 1s 137ms/step - loss: 1.0967 - accuracy: 0.3000 - val_loss: 1.1097 - val_accuracy: 0.3000\n",
            "Epoch 96/100\n",
            "10/10 [==============================] - 1s 137ms/step - loss: 1.0949 - accuracy: 0.3700 - val_loss: 1.0709 - val_accuracy: 0.3158\n",
            "Epoch 97/100\n",
            "10/10 [==============================] - 1s 140ms/step - loss: 1.0957 - accuracy: 0.4000 - val_loss: 1.1225 - val_accuracy: 0.3000\n",
            "Epoch 98/100\n",
            "10/10 [==============================] - 1s 138ms/step - loss: 1.1031 - accuracy: 0.3600 - val_loss: 1.0660 - val_accuracy: 0.4500\n",
            "Epoch 99/100\n",
            "10/10 [==============================] - 1s 139ms/step - loss: 1.0901 - accuracy: 0.4100 - val_loss: 1.0789 - val_accuracy: 0.4000\n",
            "Epoch 100/100\n",
            "10/10 [==============================] - 1s 137ms/step - loss: 1.0953 - accuracy: 0.3200 - val_loss: 1.0892 - val_accuracy: 0.3500\n"
          ],
          "name": "stdout"
        }
      ]
    },
    {
      "cell_type": "code",
      "metadata": {
        "id": "i7Rw0tfOb4Gw",
        "colab_type": "code",
        "outputId": "857edd05-a81c-4013-97ca-bf72b2137c3a",
        "colab": {
          "base_uri": "https://localhost:8080/",
          "height": 108
        }
      },
      "source": [
        "test_imgs, test_labels = next(test_batches)\n",
        "plots(test_imgs,titles=test_labels)"
      ],
      "execution_count": 0,
      "outputs": [
        {
          "output_type": "stream",
          "text": [
            "/usr/local/lib/python3.6/dist-packages/matplotlib/text.py:1165: FutureWarning: elementwise comparison failed; returning scalar instead, but in the future will perform elementwise comparison\n",
            "  if s != self._text:\n"
          ],
          "name": "stderr"
        },
        {
          "output_type": "display_data",
          "data": {
            "image/png": "[encoded data removed]",
            "text/plain": [
              "<Figure size 864x432 with 119 Axes>"
            ]
          },
          "metadata": {
            "tags": [],
            "needs_background": "light"
          }
        }
      ]
    },
    {
      "cell_type": "code",
      "metadata": {
        "id": "a9le-pxob6ma",
        "colab_type": "code",
        "outputId": "454dee2f-864c-46e6-fdaa-d2226b3c1d45",
        "colab": {
          "base_uri": "https://localhost:8080/",
          "height": 1000
        }
      },
      "source": [
        "# test_labels = test_labels[:,0]\n",
        "test_labels"
      ],
      "execution_count": 0,
      "outputs": [
        {
          "output_type": "execute_result",
          "data": {
            "text/plain": [
              "array([[0., 1., 0.],\n",
              "       [0., 0., 1.],\n",
              "       [1., 0., 0.],\n",
              "       [0., 0., 1.],\n",
              "       [0., 0., 1.],\n",
              "       [0., 0., 1.],\n",
              "       [0., 1., 0.],\n",
              "       [0., 1., 0.],\n",
              "       [1., 0., 0.],\n",
              "       [0., 0., 1.],\n",
              "       [0., 1., 0.],\n",
              "       [0., 0., 1.],\n",
              "       [1., 0., 0.],\n",
              "       [1., 0., 0.],\n",
              "       [0., 1., 0.],\n",
              "       [0., 1., 0.],\n",
              "       [0., 1., 0.],\n",
              "       [0., 0., 1.],\n",
              "       [0., 1., 0.],\n",
              "       [1., 0., 0.],\n",
              "       [1., 0., 0.],\n",
              "       [0., 0., 1.],\n",
              "       [0., 0., 1.],\n",
              "       [0., 0., 1.],\n",
              "       [0., 0., 1.],\n",
              "       [1., 0., 0.],\n",
              "       [0., 0., 1.],\n",
              "       [1., 0., 0.],\n",
              "       [1., 0., 0.],\n",
              "       [0., 0., 1.],\n",
              "       [1., 0., 0.],\n",
              "       [1., 0., 0.],\n",
              "       [0., 0., 1.],\n",
              "       [0., 0., 1.],\n",
              "       [1., 0., 0.],\n",
              "       [0., 1., 0.],\n",
              "       [0., 0., 1.],\n",
              "       [1., 0., 0.],\n",
              "       [1., 0., 0.],\n",
              "       [0., 0., 1.],\n",
              "       [0., 1., 0.],\n",
              "       [0., 0., 1.],\n",
              "       [0., 0., 1.],\n",
              "       [0., 1., 0.],\n",
              "       [0., 0., 1.],\n",
              "       [1., 0., 0.],\n",
              "       [0., 1., 0.],\n",
              "       [1., 0., 0.],\n",
              "       [1., 0., 0.],\n",
              "       [1., 0., 0.],\n",
              "       [1., 0., 0.],\n",
              "       [1., 0., 0.],\n",
              "       [0., 0., 1.],\n",
              "       [0., 1., 0.],\n",
              "       [0., 0., 1.],\n",
              "       [1., 0., 0.],\n",
              "       [1., 0., 0.],\n",
              "       [0., 0., 1.],\n",
              "       [1., 0., 0.],\n",
              "       [0., 1., 0.],\n",
              "       [0., 1., 0.],\n",
              "       [0., 1., 0.],\n",
              "       [0., 0., 1.],\n",
              "       [1., 0., 0.],\n",
              "       [0., 1., 0.],\n",
              "       [0., 1., 0.],\n",
              "       [1., 0., 0.],\n",
              "       [1., 0., 0.],\n",
              "       [0., 1., 0.],\n",
              "       [1., 0., 0.],\n",
              "       [0., 0., 1.],\n",
              "       [0., 1., 0.],\n",
              "       [1., 0., 0.],\n",
              "       [0., 1., 0.],\n",
              "       [1., 0., 0.],\n",
              "       [1., 0., 0.],\n",
              "       [0., 1., 0.],\n",
              "       [0., 0., 1.],\n",
              "       [0., 0., 1.],\n",
              "       [1., 0., 0.],\n",
              "       [0., 0., 1.],\n",
              "       [1., 0., 0.],\n",
              "       [1., 0., 0.],\n",
              "       [0., 0., 1.],\n",
              "       [0., 1., 0.],\n",
              "       [0., 1., 0.],\n",
              "       [0., 0., 1.],\n",
              "       [1., 0., 0.],\n",
              "       [0., 0., 1.],\n",
              "       [1., 0., 0.],\n",
              "       [1., 0., 0.],\n",
              "       [1., 0., 0.],\n",
              "       [0., 0., 1.],\n",
              "       [0., 1., 0.],\n",
              "       [0., 1., 0.],\n",
              "       [0., 0., 1.],\n",
              "       [0., 0., 1.],\n",
              "       [1., 0., 0.],\n",
              "       [0., 1., 0.],\n",
              "       [0., 1., 0.],\n",
              "       [0., 0., 1.],\n",
              "       [0., 0., 1.],\n",
              "       [0., 1., 0.],\n",
              "       [0., 1., 0.],\n",
              "       [1., 0., 0.],\n",
              "       [1., 0., 0.],\n",
              "       [1., 0., 0.],\n",
              "       [0., 0., 1.],\n",
              "       [0., 0., 1.],\n",
              "       [1., 0., 0.],\n",
              "       [1., 0., 0.],\n",
              "       [1., 0., 0.],\n",
              "       [0., 0., 1.],\n",
              "       [0., 1., 0.],\n",
              "       [1., 0., 0.],\n",
              "       [0., 0., 1.],\n",
              "       [0., 0., 1.],\n",
              "       [1., 0., 0.],\n",
              "       [0., 0., 1.]], dtype=float32)"
            ]
          },
          "metadata": {
            "tags": []
          },
          "execution_count": 194
        }
      ]
    },
    {
      "cell_type": "code",
      "metadata": {
        "id": "EfqDVhLrb8j_",
        "colab_type": "code",
        "outputId": "28fe1461-6f55-48d5-b8c6-772bf92a3410",
        "colab": {
          "base_uri": "https://localhost:8080/",
          "height": 34
        }
      },
      "source": [
        "predictions = model.predict_generator(test_batches,steps=1,verbose=1)"
      ],
      "execution_count": 0,
      "outputs": [
        {
          "output_type": "stream",
          "text": [
            "\r1/1 [==============================] - 3s 3s/step\n"
          ],
          "name": "stdout"
        }
      ]
    },
    {
      "cell_type": "code",
      "metadata": {
        "id": "2MdUbSl4NaRZ",
        "colab_type": "code",
        "outputId": "fa1265d3-6112-48e1-ef25-1f386110aef3",
        "colab": {
          "base_uri": "https://localhost:8080/",
          "height": 1000
        }
      },
      "source": [
        "print(predictions)"
      ],
      "execution_count": 0,
      "outputs": [
        {
          "output_type": "stream",
          "text": [
            "[[2.26807836e-02 9.23871160e-01 5.34479953e-02]\n",
            " [5.01930629e-07 5.42070530e-02 9.45792496e-01]\n",
            " [9.90655124e-01 9.32407938e-03 2.07855646e-05]\n",
            " [1.08377180e-14 8.01933056e-04 9.99198020e-01]\n",
            " [3.93923492e-17 7.56819354e-05 9.99924302e-01]\n",
            " [2.02671097e-28 3.25306466e-08 1.00000000e+00]\n",
            " [2.39077806e-02 9.20234859e-01 5.58573715e-02]\n",
            " [1.57341640e-02 9.13651705e-01 7.06140921e-02]\n",
            " [9.90656435e-01 9.32281092e-03 2.07811318e-05]\n",
            " [1.07330374e-17 4.91632545e-06 9.99995112e-01]\n",
            " [2.11649552e-01 7.74662137e-01 1.36883482e-02]\n",
            " [1.68464263e-19 3.18957937e-05 9.99968052e-01]\n",
            " [9.90651846e-01 9.32736136e-03 2.07959856e-05]\n",
            " [9.90656078e-01 9.32318997e-03 2.07820758e-05]\n",
            " [5.04598545e-04 4.45805371e-01 5.53690016e-01]\n",
            " [2.34927647e-02 9.22997653e-01 5.35094701e-02]\n",
            " [4.36461605e-02 9.22999084e-01 3.33547406e-02]\n",
            " [1.04191176e-05 7.41610304e-02 9.25828576e-01]\n",
            " [3.77396904e-02 9.27298844e-01 3.49614248e-02]\n",
            " [9.90656495e-01 9.32272803e-03 2.07787161e-05]\n",
            " [9.90630686e-01 9.34839156e-03 2.08834026e-05]\n",
            " [2.08350019e-33 3.32296146e-09 1.00000000e+00]\n",
            " [8.06199965e-38 9.92130964e-08 9.99999881e-01]\n",
            " [4.21949244e-06 1.32781103e-01 8.67214620e-01]\n",
            " [5.20691447e-06 3.85147445e-02 9.61480081e-01]\n",
            " [9.90656495e-01 9.32267774e-03 2.07840076e-05]\n",
            " [2.41651800e-17 1.46747179e-05 9.99985337e-01]\n",
            " [9.90638852e-01 9.34033748e-03 2.08417150e-05]\n",
            " [9.90655124e-01 9.32411477e-03 2.07859612e-05]\n",
            " [8.74859547e-35 2.46481431e-08 1.00000000e+00]\n",
            " [9.90640283e-01 9.33890324e-03 2.08337569e-05]\n",
            " [9.90652561e-01 9.32663027e-03 2.07913999e-05]\n",
            " [1.32769266e-22 8.73145291e-06 9.99991298e-01]\n",
            " [1.30697203e-10 6.98609836e-03 9.93013918e-01]\n",
            " [9.90653276e-01 9.32595599e-03 2.07924841e-05]\n",
            " [2.33437191e-03 6.24721348e-01 3.72944295e-01]\n",
            " [3.32411983e-25 1.09463967e-08 1.00000000e+00]\n",
            " [9.90655363e-01 9.32385866e-03 2.07846369e-05]\n",
            " [9.88698423e-01 1.12723215e-02 2.91838660e-05]\n",
            " [5.03185671e-04 3.96563768e-01 6.02932990e-01]\n",
            " [2.70886034e-01 7.10264027e-01 1.88499093e-02]\n",
            " [6.23849531e-22 1.07067453e-05 9.99989271e-01]\n",
            " [1.38897573e-18 7.04927743e-06 9.99992967e-01]\n",
            " [1.14174318e-02 8.77443492e-01 1.11139111e-01]\n",
            " [1.99485526e-20 8.06964672e-05 9.99919295e-01]\n",
            " [9.90657330e-01 9.32188239e-03 2.07762369e-05]\n",
            " [2.07112897e-02 9.42041278e-01 3.72474194e-02]\n",
            " [9.90654290e-01 9.32486728e-03 2.07869343e-05]\n",
            " [9.90656614e-01 9.32259951e-03 2.07796093e-05]\n",
            " [9.90631163e-01 9.34793241e-03 2.08727815e-05]\n",
            " [9.90655839e-01 9.32336599e-03 2.07816738e-05]\n",
            " [9.90637898e-01 9.34126414e-03 2.08339843e-05]\n",
            " [4.42956836e-04 3.07100147e-01 6.92456841e-01]\n",
            " [1.11788623e-01 8.52112949e-01 3.60984392e-02]\n",
            " [3.60252414e-31 2.95605984e-10 1.00000000e+00]\n",
            " [9.90655720e-01 9.32356063e-03 2.07829398e-05]\n",
            " [9.90665197e-01 9.31398012e-03 2.07742614e-05]\n",
            " [5.66238811e-28 1.96527132e-08 1.00000000e+00]\n",
            " [9.90653336e-01 9.32584144e-03 2.07935173e-05]\n",
            " [4.16016988e-02 8.30196381e-01 1.28201872e-01]\n",
            " [1.89217199e-02 9.38620985e-01 4.24573794e-02]\n",
            " [1.46112987e-03 4.80403244e-01 5.18135667e-01]\n",
            " [8.83738485e-16 3.94563220e-04 9.99605477e-01]\n",
            " [9.90654051e-01 9.32518579e-03 2.07895664e-05]\n",
            " [3.16787586e-02 9.18304622e-01 5.00166602e-02]\n",
            " [1.18422136e-02 9.14287627e-01 7.38701597e-02]\n",
            " [9.90673125e-01 9.30611696e-03 2.07420399e-05]\n",
            " [9.90655482e-01 9.32375807e-03 2.07841640e-05]\n",
            " [1.61648539e-04 3.52228761e-01 6.47609651e-01]\n",
            " [9.90671396e-01 9.30788927e-03 2.07564299e-05]\n",
            " [5.93897512e-29 1.85081674e-08 1.00000000e+00]\n",
            " [9.84953642e-01 1.49990674e-02 4.72741813e-05]\n",
            " [9.90655601e-01 9.32367053e-03 2.07838293e-05]\n",
            " [2.76876669e-02 9.37530875e-01 3.47814970e-02]\n",
            " [9.90656972e-01 9.32216737e-03 2.07806279e-05]\n",
            " [9.90653276e-01 9.32597276e-03 2.07905396e-05]\n",
            " [9.45434868e-01 5.41639626e-02 4.01250116e-04]\n",
            " [6.46238588e-03 6.78312302e-01 3.15225303e-01]\n",
            " [1.56010566e-34 1.22756445e-08 1.00000000e+00]\n",
            " [9.90648329e-01 9.33086034e-03 2.08076144e-05]\n",
            " [8.33221944e-04 3.36534679e-01 6.62632108e-01]\n",
            " [9.90658402e-01 9.32087842e-03 2.07664543e-05]\n",
            " [9.90654647e-01 9.32460837e-03 2.07862886e-05]\n",
            " [2.73964762e-18 2.74278991e-05 9.99972582e-01]\n",
            " [2.87079103e-02 9.15836394e-01 5.54557368e-02]\n",
            " [9.54094622e-03 8.42243433e-01 1.48215711e-01]\n",
            " [8.37821420e-03 5.98054886e-01 3.93566877e-01]\n",
            " [9.90653336e-01 9.32585914e-03 2.07920311e-05]\n",
            " [2.53679167e-09 3.79363354e-03 9.96206284e-01]\n",
            " [9.90655601e-01 9.32367519e-03 2.07839894e-05]\n",
            " [9.90657210e-01 9.32200532e-03 2.07783341e-05]\n",
            " [9.90650654e-01 9.32850223e-03 2.07947905e-05]\n",
            " [3.13978400e-29 7.38660191e-08 9.99999881e-01]\n",
            " [6.95593795e-03 6.89237773e-01 3.03806275e-01]\n",
            " [1.16836719e-01 8.46506178e-01 3.66570614e-02]\n",
            " [1.26093788e-14 5.54526923e-05 9.99944568e-01]\n",
            " [8.15582657e-30 1.46799111e-05 9.99985337e-01]\n",
            " [9.90659893e-01 9.31924861e-03 2.07679295e-05]\n",
            " [3.06882709e-02 9.27406192e-01 4.19055000e-02]\n",
            " [4.57138903e-02 9.23471570e-01 3.08145285e-02]\n",
            " [2.42331170e-31 4.05268423e-08 1.00000000e+00]\n",
            " [3.37672305e-24 1.02300737e-06 9.99998927e-01]\n",
            " [9.85729098e-01 1.42279193e-02 4.29946995e-05]\n",
            " [4.32205498e-02 9.21498477e-01 3.52810472e-02]\n",
            " [9.90640938e-01 9.33830906e-03 2.08415786e-05]\n",
            " [9.86115336e-01 1.38450656e-02 3.96520991e-05]\n",
            " [9.90661204e-01 9.31805186e-03 2.07653447e-05]\n",
            " [8.23124468e-12 6.46526320e-03 9.93534803e-01]\n",
            " [1.46294630e-27 3.88066098e-07 9.99999642e-01]\n",
            " [9.90624845e-01 9.35423933e-03 2.09034861e-05]\n",
            " [9.90657210e-01 9.32203140e-03 2.07825160e-05]\n",
            " [9.90654767e-01 9.32443608e-03 2.07846260e-05]\n",
            " [3.60932828e-13 1.42546933e-05 9.99985695e-01]\n",
            " [5.46752587e-02 9.04027939e-01 4.12967950e-02]\n",
            " [9.90657806e-01 9.32139158e-03 2.07754547e-05]\n",
            " [1.23480290e-26 1.39812209e-06 9.99998569e-01]\n",
            " [6.96897373e-10 1.86306220e-02 9.81369376e-01]\n",
            " [9.90654290e-01 9.32495669e-03 2.07850917e-05]\n",
            " [1.69032208e-17 7.76260713e-05 9.99922395e-01]]\n"
          ],
          "name": "stdout"
        }
      ]
    },
    {
      "cell_type": "code",
      "metadata": {
        "id": "DxH0-PnrSO6j",
        "colab_type": "code",
        "colab": {}
      },
      "source": [
        "from itertools import chain\n",
        "\n",
        "\n",
        "def numpyTo1D(arr):\n",
        "  tDnmpy = arr\n",
        "  tDlist = tDnmpy.tolist()\n",
        "  temp = []\n",
        "  tempkey = 0\n",
        "  count = 0\n",
        "  tdict = dict()\n",
        "  for list1 in tDlist:\n",
        "    for elements in list1:\n",
        "        tdict[count] = elements\n",
        "        tempt = count +1\n",
        "        count = tempt\n",
        "    count = 0\n",
        "    tempkey = max(tdict, key=tdict.get)\n",
        "    temp.append(tempkey)\n",
        "  return temp\n",
        "\n"
      ],
      "execution_count": 0,
      "outputs": []
    },
    {
      "cell_type": "code",
      "metadata": {
        "id": "HFCL3d96uufL",
        "colab_type": "code",
        "colab": {}
      },
      "source": [
        "def floatNumpyTo1D(arr1):\n",
        "  tDnmpy = arr1\n",
        "  tDlist = tDnmpy.tolist()\n",
        "  #print(tDlist)\n",
        "  temp = []\n",
        "  count = 0\n",
        "  for parts in tDlist:\n",
        "    for elements in parts:\n",
        "      if count == 0 and elements == 1.0:\n",
        "        temp.append(0)\n",
        "        tempt = count +1\n",
        "        count = tempt\n",
        "      elif count == 1 and elements == 1.0:\n",
        "        temp.append(1)\n",
        "        tempt = count +1\n",
        "        count = tempt\n",
        "      elif count == 2 and elements == 1.0:\n",
        "        temp.append(2)\n",
        "        count = 0\n",
        "  return temp"
      ],
      "execution_count": 0,
      "outputs": []
    },
    {
      "cell_type": "code",
      "metadata": {
        "id": "cRGlgBHTVAMh",
        "colab_type": "code",
        "outputId": "0f56ea93-a3a4-43f1-d172-2404168f6936",
        "colab": {
          "base_uri": "https://localhost:8080/",
          "height": 54
        }
      },
      "source": [
        "oneDpreds = numpyTo1D(predictions)\n",
        "print(oneDpreds)"
      ],
      "execution_count": 0,
      "outputs": [
        {
          "output_type": "stream",
          "text": [
            "[1, 2, 0, 2, 2, 2, 1, 1, 0, 2, 1, 2, 0, 0, 2, 1, 1, 2, 1, 0, 0, 2, 2, 2, 2, 0, 2, 0, 0, 2, 0, 0, 2, 2, 0, 1, 2, 0, 0, 2, 1, 2, 2, 1, 2, 0, 1, 0, 0, 0, 0, 0, 2, 1, 2, 0, 0, 2, 0, 1, 1, 2, 2, 0, 1, 1, 0, 0, 2, 0, 2, 0, 0, 1, 0, 0, 0, 1, 2, 0, 2, 0, 0, 2, 1, 1, 1, 0, 2, 0, 0, 0, 2, 1, 1, 2, 2, 0, 1, 1, 2, 2, 0, 1, 0, 0, 0, 2, 2, 0, 0, 0, 2, 1, 0, 2, 2, 0, 2]\n"
          ],
          "name": "stdout"
        }
      ]
    },
    {
      "cell_type": "code",
      "metadata": {
        "id": "KX7EirWObwWg",
        "colab_type": "code",
        "outputId": "fc42a29e-69c6-417f-f79e-34c1decb1b49",
        "colab": {
          "base_uri": "https://localhost:8080/",
          "height": 54
        }
      },
      "source": [
        "oneDtest = floatNumpyTo1D(test_labels)\n",
        "print(oneDtest)"
      ],
      "execution_count": 0,
      "outputs": [
        {
          "output_type": "stream",
          "text": [
            "[0, 1, 2, 0, 1, 2, 0, 1, 2, 0, 1, 2, 0, 1, 2, 0, 1, 2, 0, 1, 2, 0, 1, 2, 0, 1, 2, 0, 1, 2, 0, 1, 2, 0, 1, 2, 0, 1, 2, 0, 1, 2, 0, 1, 2, 0, 1, 2, 0, 1, 2, 0, 1, 2, 0, 1, 2, 0, 1, 2, 0, 1, 2, 0, 1, 2, 0, 1, 2, 0, 1, 2, 0, 1, 2, 0, 1, 2, 0, 1, 2, 0, 1, 2, 0, 1, 2, 0, 1, 2, 0, 1, 2, 0, 1, 2, 0, 1, 2, 0, 1, 2, 0, 1, 2, 0, 1, 2, 0, 1, 2, 0, 1, 2, 0, 1, 2, 0, 1]\n"
          ],
          "name": "stdout"
        }
      ]
    },
    {
      "cell_type": "code",
      "metadata": {
        "id": "oDXM3I_Gki6P",
        "colab_type": "code",
        "colab": {}
      },
      "source": [
        "#f1 score calculator\n",
        "def f1calc(preds, test):\n",
        "  ztp = 0\n",
        "  zfp = 0\n",
        "  zfn = 0\n",
        "  zprec = 0\n",
        "  zrec = 0\n",
        "\n",
        "  otp = 0\n",
        "  ofp = 0\n",
        "  ofn = 0 \n",
        "  oprec = 0\n",
        "  orec = 0\n",
        "\n",
        "  ttp = 0 \n",
        "  tfp = 0 \n",
        "  tfn = 0\n",
        "  tprec = 0\n",
        "  trec = 0\n",
        "\n",
        "  length = len(preds)\n",
        "  for i in range(length):\n",
        "    #false positive check \n",
        "    if preds[i] != test[i]:\n",
        "      #0 class false pos\n",
        "      if preds[i] == 0:\n",
        "        temp = zfp + 1\n",
        "        zfp = temp\n",
        "      #1 class false pos\n",
        "      elif preds[i] == 1:\n",
        "        temp = ofp + 1\n",
        "        ofp = temp\n",
        "      #2 class false pos\n",
        "      elif preds[i] == 2:\n",
        "        temp = tfp + 1\n",
        "        tfp = temp\n",
        "\n",
        "    #true positive and false negative check\n",
        "    if test[i] == 0:\n",
        "      # 0 class true pos\n",
        "      if test[i] == preds[i]:\n",
        "        temp = ztp + 1\n",
        "        ztp = temp\n",
        "      #0 class false neg\n",
        "      else:\n",
        "        temp = zfn + 1\n",
        "        zfn = temp\n",
        "    elif test[i] == 1:\n",
        "      #1 class true pos\n",
        "      if test[i] == preds[i]:\n",
        "        temp = otp + 1\n",
        "        otp = temp\n",
        "      #1 class false neg\n",
        "      else:\n",
        "        temp = ofn + 1\n",
        "        ofn = temp\n",
        "    elif test[i] == 2:\n",
        "      #2 class true pos\n",
        "      if test[i] == preds[i]:\n",
        "        temp = ttp + 1\n",
        "        ttp = temp\n",
        "      #1 class false neg\n",
        "      else:\n",
        "        temp = tfn + 1\n",
        "        tfn = temp\n",
        "\n",
        "  #calculate individual class precision (true pos)/(true pos + false pos)\n",
        "  zprec = ztp/(ztp+zfp)\n",
        "  oprec = otp/(otp+ofp)\n",
        "  tprec = ttp/(ttp+tfp)\n",
        "  precision = (zprec +oprec + tprec)/3\n",
        "\n",
        "  #calculate individual recall (true pos)/(true pos + false neg)\n",
        "  zrec = ztp/(ztp+zfn)\n",
        "  orec = otp/(otp+ofn)\n",
        "  trec = ttp/(ttp+tfn)\n",
        "  recall = (zrec +orec + trec)/3\n",
        "\n",
        "  return (2 * (precision * recall) / (precision + recall))"
      ],
      "execution_count": 0,
      "outputs": []
    },
    {
      "cell_type": "code",
      "metadata": {
        "id": "5FPlR3fv_asv",
        "colab_type": "code",
        "outputId": "fedab81b-c46c-4d15-f276-d39accc0a92b",
        "colab": {
          "base_uri": "https://localhost:8080/",
          "height": 34
        }
      },
      "source": [
        "# #metrics\n",
        "# from sklearn.metrics import f1_score\n",
        "\n",
        "# f1 = f1_score(oneDpreds, oneDtest)\n",
        "# print('F1 score: %f' % f1)\n",
        "f1 = f1calc(oneDpreds, oneDtest)\n",
        "print('F1 score: %f' % f1)"
      ],
      "execution_count": 0,
      "outputs": [
        {
          "output_type": "stream",
          "text": [
            "F1 score: 0.412367\n"
          ],
          "name": "stdout"
        }
      ]
    },
    {
      "cell_type": "code",
      "metadata": {
        "id": "BJ65I1aLGts2",
        "colab_type": "code",
        "colab": {}
      },
      "source": [
        "def plot_confusion_matrix(cm, classes,\n",
        "                          normalize=False,\n",
        "                          title='Confusion matrix',\n",
        "                          cmap=plt.cm.Blues):\n",
        "    \"\"\"\n",
        "    This function prints and plots the confusion matrix.\n",
        "    Normalization can be applied by setting `normalize=True`.\n",
        "    \"\"\"\n",
        "    plt.imshow(cm, interpolation='nearest', cmap=cmap)\n",
        "    plt.title(title)\n",
        "    plt.colorbar()\n",
        "    tick_marks = np.arange(len(classes))\n",
        "    plt.xticks(tick_marks, classes, rotation=45)\n",
        "    plt.yticks(tick_marks, classes)\n",
        "\n",
        "    if normalize:\n",
        "        cm = cm.astype('float') / cm.sum(axis=1)[:, np.newaxis]\n",
        "        print(\"Normalized confusion matrix\")\n",
        "    else:\n",
        "        print('Confusion matrix, without normalization')\n",
        "\n",
        "    print(cm)\n",
        "\n",
        "    thresh = cm.max() / 2.\n",
        "    for i, j in itertools.product(range(cm.shape[0]), range(cm.shape[1])):\n",
        "        plt.text(j, i, cm[i, j],\n",
        "                 horizontalalignment=\"center\",\n",
        "                 color=\"white\" if cm[i, j] > thresh else \"black\")\n",
        "\n",
        "    plt.tight_layout()\n",
        "    plt.ylabel('True label')\n",
        "    plt.xlabel('Predicted label')"
      ],
      "execution_count": 0,
      "outputs": []
    },
    {
      "cell_type": "code",
      "metadata": {
        "id": "I5thkIwvGyPK",
        "colab_type": "code",
        "outputId": "59478a84-b8f2-44ba-f7b1-c3e7ac9324a5",
        "colab": {
          "base_uri": "https://localhost:8080/",
          "height": 384
        }
      },
      "source": [
        "#first batch(10)\n",
        "cnf_matrix = confusion_matrix(test_labels, y_pred,labels=['nevus','basal_cell_carcinoma','vascular_lesion'])\n",
        "np.set_printoptions(precision=2)\n",
        "\n",
        "# Plot non-normalized confusion matrix\n",
        "plt.figure()\n",
        "plot_confusion_matrix(cnf_matrix, classes=['nevus','basal_cell_carcinoma','vascular_lesion'],\n",
        "                      title='Confusion matrix, without normalization')"
      ],
      "execution_count": 0,
      "outputs": [
        {
          "output_type": "stream",
          "text": [
            "Confusion matrix, without normalization\n",
            "[[0 0 3]\n",
            " [0 2 0]\n",
            " [0 0 1]]\n"
          ],
          "name": "stdout"
        },
        {
          "output_type": "display_data",
          "data": {
            "image/png": "[encoded data removed]",
            "text/plain": [
              "<Figure size 432x288 with 2 Axes>"
            ]
          },
          "metadata": {
            "tags": [],
            "needs_background": "light"
          }
        }
      ]
    }
  ]
}