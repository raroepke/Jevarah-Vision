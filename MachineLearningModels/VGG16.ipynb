{
  "nbformat": 4,
  "nbformat_minor": 0,
  "metadata": {
    "colab": {
      "name": "VGG16.ipynb",
      "provenance": [],
      "include_colab_link": true
    },
    "kernelspec": {
      "name": "python3",
      "display_name": "Python 3"
    },
    "accelerator": "GPU"
  },
  "cells": [
    {
      "cell_type": "markdown",
      "metadata": {
        "id": "view-in-github",
        "colab_type": "text"
      },
      "source": [
        "<a href=\"https://colab.research.google.com/github/AvaPodrazhansky/Jevarah-Vision/blob/master/MachineLearningModels/VGG16.ipynb\" target=\"_parent\"><img src=\"https://colab.research.google.com/assets/colab-badge.svg\" alt=\"Open In Colab\"/></a>"
      ]
    },
    {
      "cell_type": "code",
      "metadata": {
        "id": "-U9Lt-CnVsGo",
        "colab_type": "code",
        "colab": {}
      },
      "source": [
        "#imports for keras\n",
        "%tensorflow_version 1.x\n",
        "import keras\n",
        "import numpy as np\n",
        "from keras import backend as K\n",
        "from keras.models import Sequential\n",
        "from keras.layers import Activation\n",
        "from keras.layers.core import Dense, Flatten\n",
        "from keras.optimizers import Adam \n",
        "from keras.metrics import categorical_crossentropy\n",
        "from keras.preprocessing.image import ImageDataGenerator\n",
        "from keras.layers.normalization import BatchNormalization\n",
        "from keras.layers.convolutional import *\n",
        "from keras.layers import Dense, Conv2D, MaxPool2D , Flatten\n",
        "import matplotlib.pyplot as plt\n",
        "from tensorflow.keras.utils import plot_model"
      ],
      "execution_count": 0,
      "outputs": []
    },
    {
      "cell_type": "code",
      "metadata": {
        "id": "VBj4xSKsCj2u",
        "colab_type": "code",
        "colab": {}
      },
      "source": [
        "from numpy import array\n",
        "from numpy import argmax\n",
        "from sklearn.metrics import confusion_matrix\n",
        "import itertools\n",
        "%matplotlib inline"
      ],
      "execution_count": 0,
      "outputs": []
    },
    {
      "cell_type": "code",
      "metadata": {
        "id": "Tga1A2WIbfNM",
        "colab_type": "code",
        "colab": {}
      },
      "source": [
        "train_path = '/content/drive/My Drive/GEN_DATA_TRAIN_TEST_VAL_unziped/GEN_DATA_TRAIN_TEST_VAL/train'\n",
        "test_path = '/content/drive/My Drive/GEN_DATA_TRAIN_TEST_VAL_unziped/GEN_DATA_TRAIN_TEST_VAL/test'\n",
        "valid_path = '/content/drive/My Drive/GEN_DATA_TRAIN_TEST_VAL_unziped/GEN_DATA_TRAIN_TEST_VAL/valid'"
      ],
      "execution_count": 0,
      "outputs": []
    },
    {
      "cell_type": "code",
      "metadata": {
        "id": "Ta-zfZQ6bmc_",
        "colab_type": "code",
        "outputId": "ca5693da-4840-471d-eacd-b2fa86e1f97f",
        "colab": {
          "base_uri": "https://localhost:8080/",
          "height": 68
        }
      },
      "source": [
        "train_batches = ImageDataGenerator().flow_from_directory(train_path, target_size=(224,224),classes=['nevus','basal_cell_carcinoma','vascular_lesion'],batch_size=10)\n",
        "test_batches = ImageDataGenerator().flow_from_directory(test_path, target_size=(224,224),classes=['nevus','basal_cell_carcinoma','vascular_lesion'],batch_size=25)\n",
        "valid_batches = ImageDataGenerator().flow_from_directory(valid_path, target_size=(224,224),classes=['nevus','basal_cell_carcinoma','vascular_lesion'],batch_size=10)"
      ],
      "execution_count": 14,
      "outputs": [
        {
          "output_type": "stream",
          "text": [
            "Found 950 images belonging to 3 classes.\n",
            "Found 119 images belonging to 3 classes.\n",
            "Found 119 images belonging to 3 classes.\n"
          ],
          "name": "stdout"
        }
      ]
    },
    {
      "cell_type": "code",
      "metadata": {
        "id": "6jDkVtk8brW4",
        "colab_type": "code",
        "colab": {}
      },
      "source": [
        "imgs, labels = next(train_batches)"
      ],
      "execution_count": 0,
      "outputs": []
    },
    {
      "cell_type": "code",
      "metadata": {
        "id": "KnelcikIbtNd",
        "colab_type": "code",
        "colab": {}
      },
      "source": [
        "# plots images with labels within jupyter notebook\n",
        "def plots(ims, figsize=(12,6), rows=1, interp=False, titles=None):\n",
        "    if type(ims[0]) is np.ndarray:\n",
        "        ims = np.array(ims).astype(np.uint8)\n",
        "        if (ims.shape[-1] != 3):\n",
        "            ims = ims.transpose((0,2,3,1))\n",
        "    f = plt.figure(figsize=figsize)\n",
        "    cols = len(ims)//rows if len(ims) % 2 == 0 else len(ims)//rows + 1\n",
        "    for i in range(len(ims)):\n",
        "        sp = f.add_subplot(rows, cols, i+1)\n",
        "        sp.axis('Off')\n",
        "        if titles is not None:\n",
        "            sp.set_title(titles[i], fontsize=16)\n",
        "        plt.imshow(ims[i], interpolation=None if interp else 'none')"
      ],
      "execution_count": 0,
      "outputs": []
    },
    {
      "cell_type": "code",
      "metadata": {
        "id": "V8NoIyAdbvm7",
        "colab_type": "code",
        "outputId": "97aa013e-1022-4536-f376-8b2c55c993d6",
        "colab": {
          "base_uri": "https://localhost:8080/",
          "height": 160
        }
      },
      "source": [
        "plots(imgs, titles=labels)"
      ],
      "execution_count": 17,
      "outputs": [
        {
          "output_type": "stream",
          "text": [
            "/usr/local/lib/python3.6/dist-packages/matplotlib/text.py:1165: FutureWarning: elementwise comparison failed; returning scalar instead, but in the future will perform elementwise comparison\n",
            "  if s != self._text:\n"
          ],
          "name": "stderr"
        },
        {
          "output_type": "display_data",
          "data": {
            "image/png": "[encoded data removed]",
            "text/plain": [
              "<Figure size 864x432 with 10 Axes>"
            ]
          },
          "metadata": {
            "tags": [],
            "needs_background": "light"
          }
        }
      ]
    },
    {
      "cell_type": "code",
      "metadata": {
        "id": "PKgKCGY-bxc5",
        "colab_type": "code",
        "colab": {
          "base_uri": "https://localhost:8080/",
          "height": 122
        },
        "outputId": "3d56f49b-b5dc-4d62-9732-454542bb0a31"
      },
      "source": [
        "model = Sequential()\n",
        "model.add(Conv2D(input_shape=(224,224,3),filters=64,kernel_size=(3,3),padding=\"same\", activation=\"relu\"))\n",
        "model.add(Conv2D(filters=64,kernel_size=(3,3),padding=\"same\", activation=\"relu\"))\n",
        "model.add(MaxPool2D(pool_size=(2,2),strides=(2,2)))\n",
        "model.add(Conv2D(filters=128, kernel_size=(3,3), padding=\"same\", activation=\"relu\"))\n",
        "model.add(Conv2D(filters=128, kernel_size=(3,3), padding=\"same\", activation=\"relu\"))\n",
        "model.add(MaxPool2D(pool_size=(2,2),strides=(2,2)))\n",
        "model.add(Conv2D(filters=256, kernel_size=(3,3), padding=\"same\", activation=\"relu\"))\n",
        "model.add(Conv2D(filters=256, kernel_size=(3,3), padding=\"same\", activation=\"relu\"))\n",
        "model.add(Conv2D(filters=256, kernel_size=(3,3), padding=\"same\", activation=\"relu\"))\n",
        "model.add(MaxPool2D(pool_size=(2,2),strides=(2,2)))\n",
        "model.add(Conv2D(filters=512, kernel_size=(3,3), padding=\"same\", activation=\"relu\"))\n",
        "model.add(Conv2D(filters=512, kernel_size=(3,3), padding=\"same\", activation=\"relu\"))\n",
        "model.add(Conv2D(filters=512, kernel_size=(3,3), padding=\"same\", activation=\"relu\"))\n",
        "model.add(MaxPool2D(pool_size=(2,2),strides=(2,2)))\n",
        "model.add(Conv2D(filters=512, kernel_size=(3,3), padding=\"same\", activation=\"relu\"))\n",
        "model.add(Conv2D(filters=512, kernel_size=(3,3), padding=\"same\", activation=\"relu\"))\n",
        "model.add(Conv2D(filters=512, kernel_size=(3,3), padding=\"same\", activation=\"relu\"))\n",
        "model.add(MaxPool2D(pool_size=(2,2),strides=(2,2)))\n",
        "model.add(Flatten())\n",
        "model.add(Dense(units=4096,activation=\"relu\"))\n",
        "model.add(Dense(units=4096,activation=\"relu\"))\n",
        "model.add(Dense(units=3, activation=\"softmax\"))\n",
        "\n",
        "\n"
      ],
      "execution_count": 18,
      "outputs": [
        {
          "output_type": "stream",
          "text": [
            "WARNING:tensorflow:From /tensorflow-1.15.2/python3.6/tensorflow_core/python/ops/resource_variable_ops.py:1630: calling BaseResourceVariable.__init__ (from tensorflow.python.ops.resource_variable_ops) with constraint is deprecated and will be removed in a future version.\n",
            "Instructions for updating:\n",
            "If using Keras pass *_constraint arguments to layers.\n",
            "WARNING:tensorflow:From /usr/local/lib/python3.6/dist-packages/keras/backend/tensorflow_backend.py:4070: The name tf.nn.max_pool is deprecated. Please use tf.nn.max_pool2d instead.\n",
            "\n"
          ],
          "name": "stdout"
        }
      ]
    },
    {
      "cell_type": "code",
      "metadata": {
        "id": "ein2JCB2oxK0",
        "colab_type": "code",
        "colab": {}
      },
      "source": [
        "from keras.optimizers import Adam\n",
        "opt = Adam(lr=0.001)\n",
        "model.compile(optimizer=opt, loss=keras.losses.categorical_crossentropy, metrics=['accuracy'])"
      ],
      "execution_count": 0,
      "outputs": []
    },
    {
      "cell_type": "code",
      "metadata": {
        "id": "-mCeOQgsb1O8",
        "colab_type": "code",
        "outputId": "9ed8b186-e96b-4999-a3f5-ab0b2912ee59",
        "colab": {
          "base_uri": "https://localhost:8080/",
          "height": 1000
        }
      },
      "source": [
        "from keras.callbacks import ModelCheckpoint, EarlyStopping\n",
        "checkpoint = ModelCheckpoint(\"vgg16_1.h5\", monitor='val_acc', verbose=1, save_best_only=True, save_weights_only=False, mode='auto', period=1)\n",
        "early = EarlyStopping(monitor='val_acc', min_delta=0, patience=20, verbose=1, mode='auto')\n",
        "hist = model.fit_generator(steps_per_epoch=10,generator=train_batches, validation_data= valid_batches, validation_steps=2,epochs=100,callbacks=[checkpoint,early])"
      ],
      "execution_count": 20,
      "outputs": [
        {
          "output_type": "stream",
          "text": [
            "WARNING:tensorflow:From /usr/local/lib/python3.6/dist-packages/keras/backend/tensorflow_backend.py:422: The name tf.global_variables is deprecated. Please use tf.compat.v1.global_variables instead.\n",
            "\n",
            "Epoch 1/100\n",
            "10/10 [==============================] - 51s 5s/step - loss: 723.0998 - accuracy: 0.3300 - val_loss: 1.5876 - val_accuracy: 0.3500\n",
            "Epoch 2/100\n"
          ],
          "name": "stdout"
        },
        {
          "output_type": "stream",
          "text": [
            "/usr/local/lib/python3.6/dist-packages/keras/callbacks/callbacks.py:707: RuntimeWarning: Can save best model only with val_acc available, skipping.\n",
            "  'skipping.' % (self.monitor), RuntimeWarning)\n",
            "/usr/local/lib/python3.6/dist-packages/keras/callbacks/callbacks.py:846: RuntimeWarning: Early stopping conditioned on metric `val_acc` which is not available. Available metrics are: val_loss,val_accuracy,loss,accuracy\n",
            "  (self.monitor, ','.join(list(logs.keys()))), RuntimeWarning\n"
          ],
          "name": "stderr"
        },
        {
          "output_type": "stream",
          "text": [
            "10/10 [==============================] - 54s 5s/step - loss: 1.0957 - accuracy: 0.3900 - val_loss: 1.1332 - val_accuracy: 0.4000\n",
            "Epoch 3/100\n",
            "10/10 [==============================] - 56s 6s/step - loss: 1.0026 - accuracy: 0.5300 - val_loss: 0.9141 - val_accuracy: 0.5000\n",
            "Epoch 4/100\n",
            "10/10 [==============================] - 55s 5s/step - loss: 1.1069 - accuracy: 0.3900 - val_loss: 1.3912 - val_accuracy: 0.4000\n",
            "Epoch 5/100\n",
            "10/10 [==============================] - 57s 6s/step - loss: 1.1039 - accuracy: 0.3300 - val_loss: 0.9713 - val_accuracy: 0.4000\n",
            "Epoch 6/100\n",
            "10/10 [==============================] - 55s 5s/step - loss: 1.0846 - accuracy: 0.3600 - val_loss: 1.1071 - val_accuracy: 0.4737\n",
            "Epoch 7/100\n",
            "10/10 [==============================] - 54s 5s/step - loss: 1.0768 - accuracy: 0.3900 - val_loss: 1.0716 - val_accuracy: 0.3500\n",
            "Epoch 8/100\n",
            "10/10 [==============================] - 57s 6s/step - loss: 1.0709 - accuracy: 0.3500 - val_loss: 1.0636 - val_accuracy: 0.3000\n",
            "Epoch 9/100\n",
            "10/10 [==============================] - 55s 5s/step - loss: 1.0617 - accuracy: 0.5000 - val_loss: 0.9920 - val_accuracy: 0.7000\n",
            "Epoch 10/100\n",
            "10/10 [==============================] - 28s 3s/step - loss: 0.9977 - accuracy: 0.5200 - val_loss: 0.9265 - val_accuracy: 0.7500\n",
            "Epoch 11/100\n",
            "10/10 [==============================] - 1s 134ms/step - loss: 1.0463 - accuracy: 0.5200 - val_loss: 0.8527 - val_accuracy: 0.6500\n",
            "Epoch 12/100\n",
            "10/10 [==============================] - 1s 134ms/step - loss: 1.0578 - accuracy: 0.4500 - val_loss: 0.9470 - val_accuracy: 0.5789\n",
            "Epoch 13/100\n",
            "10/10 [==============================] - 1s 135ms/step - loss: 0.9888 - accuracy: 0.5500 - val_loss: 0.9096 - val_accuracy: 0.7000\n",
            "Epoch 14/100\n",
            "10/10 [==============================] - 1s 134ms/step - loss: 1.0167 - accuracy: 0.4600 - val_loss: 1.7056 - val_accuracy: 0.3000\n",
            "Epoch 15/100\n",
            "10/10 [==============================] - 1s 135ms/step - loss: 1.0027 - accuracy: 0.4600 - val_loss: 1.0613 - val_accuracy: 0.3000\n",
            "Epoch 16/100\n",
            "10/10 [==============================] - 1s 134ms/step - loss: 0.9833 - accuracy: 0.4400 - val_loss: 1.1762 - val_accuracy: 0.2500\n",
            "Epoch 17/100\n",
            "10/10 [==============================] - 1s 134ms/step - loss: 1.0470 - accuracy: 0.4200 - val_loss: 0.8825 - val_accuracy: 0.5000\n",
            "Epoch 18/100\n",
            "10/10 [==============================] - 1s 134ms/step - loss: 0.9018 - accuracy: 0.5800 - val_loss: 0.7932 - val_accuracy: 0.6842\n",
            "Epoch 19/100\n",
            "10/10 [==============================] - 1s 133ms/step - loss: 0.9310 - accuracy: 0.5600 - val_loss: 0.7578 - val_accuracy: 0.6500\n",
            "Epoch 20/100\n",
            "10/10 [==============================] - 1s 134ms/step - loss: 0.9191 - accuracy: 0.5100 - val_loss: 1.3130 - val_accuracy: 0.4000\n",
            "Epoch 21/100\n",
            "10/10 [==============================] - 1s 133ms/step - loss: 0.8735 - accuracy: 0.5600 - val_loss: 1.1968 - val_accuracy: 0.5000\n",
            "Epoch 22/100\n",
            "10/10 [==============================] - 1s 134ms/step - loss: 0.9407 - accuracy: 0.5200 - val_loss: 0.8430 - val_accuracy: 0.6500\n",
            "Epoch 23/100\n",
            "10/10 [==============================] - 1s 134ms/step - loss: 0.8242 - accuracy: 0.5300 - val_loss: 0.7639 - val_accuracy: 0.5000\n",
            "Epoch 24/100\n",
            "10/10 [==============================] - 1s 134ms/step - loss: 0.8616 - accuracy: 0.5500 - val_loss: 0.5150 - val_accuracy: 0.5789\n",
            "Epoch 25/100\n",
            "10/10 [==============================] - 1s 134ms/step - loss: 0.7103 - accuracy: 0.6800 - val_loss: 0.9181 - val_accuracy: 0.5000\n",
            "Epoch 26/100\n",
            "10/10 [==============================] - 1s 134ms/step - loss: 0.8600 - accuracy: 0.5400 - val_loss: 0.7252 - val_accuracy: 0.4000\n",
            "Epoch 27/100\n",
            "10/10 [==============================] - 1s 136ms/step - loss: 0.7059 - accuracy: 0.6700 - val_loss: 0.7438 - val_accuracy: 0.6500\n",
            "Epoch 28/100\n",
            "10/10 [==============================] - 1s 133ms/step - loss: 0.6083 - accuracy: 0.7000 - val_loss: 0.5390 - val_accuracy: 0.6500\n",
            "Epoch 29/100\n",
            "10/10 [==============================] - 1s 134ms/step - loss: 0.6296 - accuracy: 0.6300 - val_loss: 0.3383 - val_accuracy: 0.6000\n",
            "Epoch 30/100\n",
            "10/10 [==============================] - 1s 135ms/step - loss: 0.4474 - accuracy: 0.7700 - val_loss: 0.6434 - val_accuracy: 0.6842\n",
            "Epoch 31/100\n",
            "10/10 [==============================] - 1s 136ms/step - loss: 0.6388 - accuracy: 0.6900 - val_loss: 0.4924 - val_accuracy: 0.6500\n",
            "Epoch 32/100\n",
            "10/10 [==============================] - 1s 133ms/step - loss: 0.5818 - accuracy: 0.7700 - val_loss: 0.6507 - val_accuracy: 0.6000\n",
            "Epoch 33/100\n",
            "10/10 [==============================] - 1s 135ms/step - loss: 0.5922 - accuracy: 0.7000 - val_loss: 0.4557 - val_accuracy: 0.7500\n",
            "Epoch 34/100\n",
            "10/10 [==============================] - 1s 134ms/step - loss: 0.5278 - accuracy: 0.7200 - val_loss: 0.6936 - val_accuracy: 0.6000\n",
            "Epoch 35/100\n",
            "10/10 [==============================] - 1s 135ms/step - loss: 0.4279 - accuracy: 0.7100 - val_loss: 0.4215 - val_accuracy: 0.8000\n",
            "Epoch 36/100\n",
            "10/10 [==============================] - 1s 134ms/step - loss: 0.4944 - accuracy: 0.7200 - val_loss: 0.6436 - val_accuracy: 0.7368\n",
            "Epoch 37/100\n",
            "10/10 [==============================] - 1s 134ms/step - loss: 0.3418 - accuracy: 0.9100 - val_loss: 0.0549 - val_accuracy: 0.7500\n",
            "Epoch 38/100\n",
            "10/10 [==============================] - 1s 133ms/step - loss: 0.5676 - accuracy: 0.7300 - val_loss: 0.5098 - val_accuracy: 0.9000\n",
            "Epoch 39/100\n",
            "10/10 [==============================] - 1s 135ms/step - loss: 0.4427 - accuracy: 0.8100 - val_loss: 0.2120 - val_accuracy: 0.9000\n",
            "Epoch 40/100\n",
            "10/10 [==============================] - 1s 135ms/step - loss: 0.3835 - accuracy: 0.8900 - val_loss: 0.4197 - val_accuracy: 0.7500\n",
            "Epoch 41/100\n",
            "10/10 [==============================] - 1s 134ms/step - loss: 0.4254 - accuracy: 0.8300 - val_loss: 0.4761 - val_accuracy: 0.9000\n",
            "Epoch 42/100\n",
            "10/10 [==============================] - 1s 135ms/step - loss: 0.3380 - accuracy: 0.8800 - val_loss: 0.4780 - val_accuracy: 0.8947\n",
            "Epoch 43/100\n",
            "10/10 [==============================] - 1s 136ms/step - loss: 0.3200 - accuracy: 0.8600 - val_loss: 0.1159 - val_accuracy: 0.9500\n",
            "Epoch 44/100\n",
            "10/10 [==============================] - 1s 133ms/step - loss: 0.4881 - accuracy: 0.8000 - val_loss: 0.1290 - val_accuracy: 0.9500\n",
            "Epoch 45/100\n",
            "10/10 [==============================] - 1s 134ms/step - loss: 0.3180 - accuracy: 0.8700 - val_loss: 0.4042 - val_accuracy: 0.8000\n",
            "Epoch 46/100\n",
            "10/10 [==============================] - 1s 134ms/step - loss: 0.3293 - accuracy: 0.8800 - val_loss: 0.2148 - val_accuracy: 0.9500\n",
            "Epoch 47/100\n",
            "10/10 [==============================] - 1s 133ms/step - loss: 0.3411 - accuracy: 0.8700 - val_loss: 0.5622 - val_accuracy: 0.7500\n",
            "Epoch 48/100\n",
            "10/10 [==============================] - 1s 133ms/step - loss: 0.3957 - accuracy: 0.8200 - val_loss: 0.3661 - val_accuracy: 0.7895\n",
            "Epoch 49/100\n",
            "10/10 [==============================] - 1s 135ms/step - loss: 0.2317 - accuracy: 0.8900 - val_loss: 0.2227 - val_accuracy: 0.6000\n",
            "Epoch 50/100\n",
            "10/10 [==============================] - 1s 135ms/step - loss: 0.7253 - accuracy: 0.7400 - val_loss: 0.3611 - val_accuracy: 0.9000\n",
            "Epoch 51/100\n",
            "10/10 [==============================] - 1s 134ms/step - loss: 0.3740 - accuracy: 0.8700 - val_loss: 0.7707 - val_accuracy: 0.7500\n",
            "Epoch 52/100\n",
            "10/10 [==============================] - 1s 134ms/step - loss: 0.2573 - accuracy: 0.9000 - val_loss: 0.2295 - val_accuracy: 0.9000\n",
            "Epoch 53/100\n",
            "10/10 [==============================] - 1s 134ms/step - loss: 0.2436 - accuracy: 0.9100 - val_loss: 0.2541 - val_accuracy: 0.8500\n",
            "Epoch 54/100\n",
            "10/10 [==============================] - 1s 135ms/step - loss: 0.3122 - accuracy: 0.8700 - val_loss: 0.1785 - val_accuracy: 1.0000\n",
            "Epoch 55/100\n",
            "10/10 [==============================] - 1s 135ms/step - loss: 0.1612 - accuracy: 0.9500 - val_loss: 0.7827 - val_accuracy: 0.9000\n",
            "Epoch 56/100\n",
            "10/10 [==============================] - 1s 133ms/step - loss: 0.1286 - accuracy: 0.9500 - val_loss: 0.0879 - val_accuracy: 0.9000\n",
            "Epoch 57/100\n",
            "10/10 [==============================] - 1s 133ms/step - loss: 0.4009 - accuracy: 0.8600 - val_loss: 0.9460 - val_accuracy: 0.8000\n",
            "Epoch 58/100\n",
            "10/10 [==============================] - 1s 134ms/step - loss: 0.1711 - accuracy: 0.9500 - val_loss: 0.1229 - val_accuracy: 0.8500\n",
            "Epoch 59/100\n",
            "10/10 [==============================] - 1s 134ms/step - loss: 0.1964 - accuracy: 0.9300 - val_loss: 0.5220 - val_accuracy: 0.8000\n",
            "Epoch 60/100\n",
            "10/10 [==============================] - 1s 133ms/step - loss: 0.1757 - accuracy: 0.9600 - val_loss: 0.2146 - val_accuracy: 0.8947\n",
            "Epoch 61/100\n",
            "10/10 [==============================] - 1s 135ms/step - loss: 0.3812 - accuracy: 0.9200 - val_loss: 0.4254 - val_accuracy: 0.8500\n",
            "Epoch 62/100\n",
            "10/10 [==============================] - 1s 134ms/step - loss: 0.4489 - accuracy: 0.8500 - val_loss: 0.2248 - val_accuracy: 0.8500\n",
            "Epoch 63/100\n",
            "10/10 [==============================] - 1s 135ms/step - loss: 0.3571 - accuracy: 0.8500 - val_loss: 0.1495 - val_accuracy: 0.9500\n",
            "Epoch 64/100\n",
            "10/10 [==============================] - 1s 135ms/step - loss: 0.1836 - accuracy: 0.9200 - val_loss: 0.0468 - val_accuracy: 1.0000\n",
            "Epoch 65/100\n",
            "10/10 [==============================] - 1s 134ms/step - loss: 0.1464 - accuracy: 0.9400 - val_loss: 0.2982 - val_accuracy: 0.9000\n",
            "Epoch 66/100\n",
            "10/10 [==============================] - 1s 134ms/step - loss: 0.3193 - accuracy: 0.9000 - val_loss: 0.5512 - val_accuracy: 0.7895\n",
            "Epoch 67/100\n",
            "10/10 [==============================] - 1s 135ms/step - loss: 0.3332 - accuracy: 0.8900 - val_loss: 0.1959 - val_accuracy: 0.8500\n",
            "Epoch 68/100\n",
            "10/10 [==============================] - 1s 134ms/step - loss: 0.4512 - accuracy: 0.8500 - val_loss: 0.2957 - val_accuracy: 0.9000\n",
            "Epoch 69/100\n",
            "10/10 [==============================] - 1s 133ms/step - loss: 0.2712 - accuracy: 0.9300 - val_loss: 0.1806 - val_accuracy: 0.9000\n",
            "Epoch 70/100\n",
            "10/10 [==============================] - 1s 134ms/step - loss: 0.3085 - accuracy: 0.8900 - val_loss: 0.3303 - val_accuracy: 0.8500\n",
            "Epoch 71/100\n",
            "10/10 [==============================] - 1s 135ms/step - loss: 0.2313 - accuracy: 0.9000 - val_loss: 0.3282 - val_accuracy: 0.9500\n",
            "Epoch 72/100\n",
            "10/10 [==============================] - 1s 134ms/step - loss: 0.2115 - accuracy: 0.9100 - val_loss: 0.2671 - val_accuracy: 0.8947\n",
            "Epoch 73/100\n",
            "10/10 [==============================] - 1s 135ms/step - loss: 0.1604 - accuracy: 0.9500 - val_loss: 0.1237 - val_accuracy: 0.9000\n",
            "Epoch 74/100\n",
            "10/10 [==============================] - 1s 133ms/step - loss: 0.1679 - accuracy: 0.9100 - val_loss: 0.0930 - val_accuracy: 0.9000\n",
            "Epoch 75/100\n",
            "10/10 [==============================] - 1s 134ms/step - loss: 0.9968 - accuracy: 0.7200 - val_loss: 0.8765 - val_accuracy: 0.6500\n",
            "Epoch 76/100\n",
            "10/10 [==============================] - 1s 134ms/step - loss: 0.4769 - accuracy: 0.7600 - val_loss: 0.8325 - val_accuracy: 0.9000\n",
            "Epoch 77/100\n",
            "10/10 [==============================] - 1s 134ms/step - loss: 0.4323 - accuracy: 0.8100 - val_loss: 0.2693 - val_accuracy: 0.9000\n",
            "Epoch 78/100\n",
            "10/10 [==============================] - 1s 134ms/step - loss: 0.2606 - accuracy: 0.9400 - val_loss: 0.2543 - val_accuracy: 0.8947\n",
            "Epoch 79/100\n",
            "10/10 [==============================] - 1s 135ms/step - loss: 0.4718 - accuracy: 0.8000 - val_loss: 0.3709 - val_accuracy: 0.8500\n",
            "Epoch 80/100\n",
            "10/10 [==============================] - 1s 135ms/step - loss: 0.3201 - accuracy: 0.9100 - val_loss: 0.3129 - val_accuracy: 0.9000\n",
            "Epoch 81/100\n",
            "10/10 [==============================] - 1s 134ms/step - loss: 0.1106 - accuracy: 0.9800 - val_loss: 0.0450 - val_accuracy: 1.0000\n",
            "Epoch 82/100\n",
            "10/10 [==============================] - 1s 134ms/step - loss: 0.2101 - accuracy: 0.9400 - val_loss: 0.3252 - val_accuracy: 0.9500\n",
            "Epoch 83/100\n",
            "10/10 [==============================] - 1s 134ms/step - loss: 0.3064 - accuracy: 0.9100 - val_loss: 1.3948 - val_accuracy: 0.8000\n",
            "Epoch 84/100\n",
            "10/10 [==============================] - 1s 134ms/step - loss: 0.5000 - accuracy: 0.8200 - val_loss: 0.1723 - val_accuracy: 1.0000\n",
            "Epoch 85/100\n",
            "10/10 [==============================] - 1s 134ms/step - loss: 0.3339 - accuracy: 0.8800 - val_loss: 0.5487 - val_accuracy: 0.8000\n",
            "Epoch 86/100\n",
            "10/10 [==============================] - 1s 134ms/step - loss: 0.6215 - accuracy: 0.8100 - val_loss: 0.3633 - val_accuracy: 0.9000\n",
            "Epoch 87/100\n",
            "10/10 [==============================] - 1s 134ms/step - loss: 0.3493 - accuracy: 0.8800 - val_loss: 0.4836 - val_accuracy: 0.8500\n",
            "Epoch 88/100\n",
            "10/10 [==============================] - 1s 134ms/step - loss: 0.2811 - accuracy: 0.9000 - val_loss: 0.4655 - val_accuracy: 0.8500\n",
            "Epoch 89/100\n",
            "10/10 [==============================] - 1s 135ms/step - loss: 0.1557 - accuracy: 0.9500 - val_loss: 0.6944 - val_accuracy: 0.9000\n",
            "Epoch 90/100\n",
            "10/10 [==============================] - 1s 134ms/step - loss: 0.2008 - accuracy: 0.9100 - val_loss: 0.0839 - val_accuracy: 1.0000\n",
            "Epoch 91/100\n",
            "10/10 [==============================] - 1s 135ms/step - loss: 0.2411 - accuracy: 0.9400 - val_loss: 0.0976 - val_accuracy: 0.9000\n",
            "Epoch 92/100\n",
            "10/10 [==============================] - 1s 133ms/step - loss: 0.3681 - accuracy: 0.8400 - val_loss: 0.6912 - val_accuracy: 0.7500\n",
            "Epoch 93/100\n",
            "10/10 [==============================] - 1s 134ms/step - loss: 0.5048 - accuracy: 0.7900 - val_loss: 0.0604 - val_accuracy: 1.0000\n",
            "Epoch 94/100\n",
            "10/10 [==============================] - 1s 133ms/step - loss: 0.5960 - accuracy: 0.8100 - val_loss: 0.7473 - val_accuracy: 0.8500\n",
            "Epoch 95/100\n",
            "10/10 [==============================] - 1s 134ms/step - loss: 0.4942 - accuracy: 0.8200 - val_loss: 0.3121 - val_accuracy: 0.9000\n",
            "Epoch 96/100\n",
            "10/10 [==============================] - 1s 133ms/step - loss: 0.3544 - accuracy: 0.8500 - val_loss: 0.1014 - val_accuracy: 0.9474\n",
            "Epoch 97/100\n",
            "10/10 [==============================] - 1s 136ms/step - loss: 0.1766 - accuracy: 0.9500 - val_loss: 0.1000 - val_accuracy: 1.0000\n",
            "Epoch 98/100\n",
            "10/10 [==============================] - 1s 135ms/step - loss: 0.1395 - accuracy: 0.9400 - val_loss: 0.0565 - val_accuracy: 0.9000\n",
            "Epoch 99/100\n",
            "10/10 [==============================] - 1s 133ms/step - loss: 0.2530 - accuracy: 0.9000 - val_loss: 0.1933 - val_accuracy: 0.9500\n",
            "Epoch 100/100\n",
            "10/10 [==============================] - 1s 133ms/step - loss: 0.2229 - accuracy: 0.9300 - val_loss: 0.0520 - val_accuracy: 0.9500\n"
          ],
          "name": "stdout"
        }
      ]
    },
    {
      "cell_type": "code",
      "metadata": {
        "id": "i7Rw0tfOb4Gw",
        "colab_type": "code",
        "outputId": "70f94d19-ac9d-467d-e7cf-3bc068d88dd2",
        "colab": {
          "base_uri": "https://localhost:8080/",
          "height": 125
        }
      },
      "source": [
        "test_imgs, test_labels = next(test_batches)\n",
        "plots(test_imgs,titles=test_labels)"
      ],
      "execution_count": 186,
      "outputs": [
        {
          "output_type": "stream",
          "text": [
            "/usr/local/lib/python3.6/dist-packages/matplotlib/text.py:1165: FutureWarning: elementwise comparison failed; returning scalar instead, but in the future will perform elementwise comparison\n",
            "  if s != self._text:\n"
          ],
          "name": "stderr"
        },
        {
          "output_type": "display_data",
          "data": {
            "image/png": "[encoded data removed]",
            "text/plain": [
              "<Figure size 864x432 with 25 Axes>"
            ]
          },
          "metadata": {
            "tags": [],
            "needs_background": "light"
          }
        }
      ]
    },
    {
      "cell_type": "code",
      "metadata": {
        "id": "a9le-pxob6ma",
        "colab_type": "code",
        "outputId": "aa264acd-90b2-4994-e022-17611270f33b",
        "colab": {
          "base_uri": "https://localhost:8080/",
          "height": 442
        }
      },
      "source": [
        "# test_labels = test_labels[:,0]\n",
        "test_labels"
      ],
      "execution_count": 187,
      "outputs": [
        {
          "output_type": "execute_result",
          "data": {
            "text/plain": [
              "array([[1., 0., 0.],\n",
              "       [0., 1., 0.],\n",
              "       [0., 0., 1.],\n",
              "       [0., 1., 0.],\n",
              "       [0., 1., 0.],\n",
              "       [1., 0., 0.],\n",
              "       [0., 0., 1.],\n",
              "       [0., 1., 0.],\n",
              "       [0., 0., 1.],\n",
              "       [0., 0., 1.],\n",
              "       [1., 0., 0.],\n",
              "       [0., 0., 1.],\n",
              "       [1., 0., 0.],\n",
              "       [1., 0., 0.],\n",
              "       [0., 0., 1.],\n",
              "       [0., 0., 1.],\n",
              "       [0., 0., 1.],\n",
              "       [0., 0., 1.],\n",
              "       [0., 0., 1.],\n",
              "       [1., 0., 0.],\n",
              "       [0., 0., 1.],\n",
              "       [0., 1., 0.],\n",
              "       [1., 0., 0.],\n",
              "       [1., 0., 0.],\n",
              "       [0., 1., 0.]], dtype=float32)"
            ]
          },
          "metadata": {
            "tags": []
          },
          "execution_count": 187
        }
      ]
    },
    {
      "cell_type": "code",
      "metadata": {
        "id": "EfqDVhLrb8j_",
        "colab_type": "code",
        "outputId": "18273a61-fb24-44f9-e53e-9f7ccf944ecc",
        "colab": {
          "base_uri": "https://localhost:8080/",
          "height": 34
        }
      },
      "source": [
        "predictions = model.predict_generator(test_batches,steps=1,verbose=1)"
      ],
      "execution_count": 168,
      "outputs": [
        {
          "output_type": "stream",
          "text": [
            "\r1/1 [==============================] - 0s 135ms/step\n"
          ],
          "name": "stdout"
        }
      ]
    },
    {
      "cell_type": "code",
      "metadata": {
        "id": "2MdUbSl4NaRZ",
        "colab_type": "code",
        "colab": {
          "base_uri": "https://localhost:8080/",
          "height": 442
        },
        "outputId": "bb064c3b-ce70-48e1-b646-cba15f969223"
      },
      "source": [
        "print(predictions)"
      ],
      "execution_count": 169,
      "outputs": [
        {
          "output_type": "stream",
          "text": [
            "[[1.08377595e-14 8.01934570e-04 9.99198020e-01]\n",
            " [9.90655720e-01 9.32356063e-03 2.07829398e-05]\n",
            " [9.90630686e-01 9.34839156e-03 2.08834026e-05]\n",
            " [9.90654290e-01 9.32486728e-03 2.07869343e-05]\n",
            " [1.04191176e-05 7.41610155e-02 9.25828576e-01]\n",
            " [9.90656614e-01 9.32259951e-03 2.07795911e-05]\n",
            " [1.18422192e-02 9.14287627e-01 7.38701597e-02]\n",
            " [2.53679655e-09 3.79363354e-03 9.96206284e-01]\n",
            " [8.37821700e-03 5.98054826e-01 3.93566936e-01]\n",
            " [2.41651800e-17 1.46747179e-05 9.99985337e-01]\n",
            " [9.90655482e-01 9.32374969e-03 2.07841440e-05]\n",
            " [9.90656435e-01 9.32281557e-03 2.07811318e-05]\n",
            " [9.90656972e-01 9.32216737e-03 2.07806279e-05]\n",
            " [9.90671396e-01 9.30788927e-03 2.07564099e-05]\n",
            " [9.90655124e-01 9.32411849e-03 2.07859812e-05]\n",
            " [9.90648329e-01 9.33086034e-03 2.08076144e-05]\n",
            " [9.90655124e-01 9.32408310e-03 2.07855846e-05]\n",
            " [2.39077806e-02 9.20234859e-01 5.58573715e-02]\n",
            " [1.11788623e-01 8.52112949e-01 3.60984392e-02]\n",
            " [9.90654647e-01 9.32460837e-03 2.07862886e-05]\n",
            " [1.69032208e-17 7.76259985e-05 9.99922395e-01]\n",
            " [9.90657806e-01 9.32139158e-03 2.07754547e-05]\n",
            " [4.57138903e-02 9.23471570e-01 3.08145285e-02]\n",
            " [1.16836719e-01 8.46506178e-01 3.66570614e-02]\n",
            " [5.04598778e-04 4.45805460e-01 5.53689957e-01]]\n"
          ],
          "name": "stdout"
        }
      ]
    },
    {
      "cell_type": "code",
      "metadata": {
        "id": "DxH0-PnrSO6j",
        "colab_type": "code",
        "colab": {}
      },
      "source": [
        "from itertools import chain\n",
        "\n",
        "\n",
        "def numpyTo1D(arr):\n",
        "  tDnmpy = arr\n",
        "  tDlist = tDnmpy.tolist()\n",
        "  temp = []\n",
        "  tempkey = 0\n",
        "  count = 0\n",
        "  tdict = dict()\n",
        "  for list1 in tDlist:\n",
        "    for elements in list1:\n",
        "        tdict[count] = elements\n",
        "        tempt = count +1\n",
        "        count = tempt\n",
        "    count = 0\n",
        "    tempkey = max(tdict, key=tdict.get)\n",
        "    temp.append(tempkey)\n",
        "  return temp\n",
        "\n"
      ],
      "execution_count": 0,
      "outputs": []
    },
    {
      "cell_type": "code",
      "metadata": {
        "id": "HFCL3d96uufL",
        "colab_type": "code",
        "colab": {}
      },
      "source": [
        "def floatNumpyTo1D(arr1):\n",
        "  tDnmpy = arr1\n",
        "  tDlist = tDnmpy.tolist()\n",
        "  #print(tDlist)\n",
        "  temp = []\n",
        "  count = 0\n",
        "  for parts in tDlist:\n",
        "    for elements in parts:\n",
        "      if count == 0 and elements == 1.0:\n",
        "        temp.append(0)\n",
        "        tempt = count +1\n",
        "        count = tempt\n",
        "      elif count == 1 and elements == 1.0:\n",
        "        temp.append(1)\n",
        "        tempt = count +1\n",
        "        count = tempt\n",
        "      elif count == 2 and elements == 1.0:\n",
        "        temp.append(2)\n",
        "        count = 0\n",
        "  return temp"
      ],
      "execution_count": 0,
      "outputs": []
    },
    {
      "cell_type": "code",
      "metadata": {
        "id": "cRGlgBHTVAMh",
        "colab_type": "code",
        "colab": {
          "base_uri": "https://localhost:8080/",
          "height": 34
        },
        "outputId": "8bc91efa-4609-4698-da65-381c06d8e81b"
      },
      "source": [
        "oneDpreds = numpyTo1D(predictions)\n",
        "print(oneDpreds)"
      ],
      "execution_count": 178,
      "outputs": [
        {
          "output_type": "stream",
          "text": [
            "[2, 0, 0, 0, 2, 0, 1, 2, 1, 2, 0, 0, 0, 0, 0, 0, 0, 1, 1, 0, 2, 0, 1, 1, 2]\n"
          ],
          "name": "stdout"
        }
      ]
    },
    {
      "cell_type": "code",
      "metadata": {
        "id": "KX7EirWObwWg",
        "colab_type": "code",
        "colab": {
          "base_uri": "https://localhost:8080/",
          "height": 34
        },
        "outputId": "f43f71ee-43b8-4636-8865-35a89bad73c9"
      },
      "source": [
        "oneDtest = floatNumpyTo1D(test_labels)\n",
        "print(oneDtest)"
      ],
      "execution_count": 189,
      "outputs": [
        {
          "output_type": "stream",
          "text": [
            "[0, 1, 2, 0, 1, 2, 0, 1, 2, 0, 1, 2, 0, 1, 2, 0, 1, 2, 0, 1, 2, 0, 1, 2, 0]\n"
          ],
          "name": "stdout"
        }
      ]
    },
    {
      "cell_type": "code",
      "metadata": {
        "id": "oDXM3I_Gki6P",
        "colab_type": "code",
        "colab": {}
      },
      "source": [
        "#f1 score calculator\n",
        "def f1calc(preds, test):\n",
        "  ztp = 0\n",
        "  zfp = 0\n",
        "  zfn = 0\n",
        "  zprec = 0\n",
        "  zrec = 0\n",
        "\n",
        "  otp = 0\n",
        "  ofp = 0\n",
        "  ofn = 0 \n",
        "  oprec = 0\n",
        "  orec = 0\n",
        "\n",
        "  ttp = 0 \n",
        "  tfp = 0 \n",
        "  tfn = 0\n",
        "  tprec = 0\n",
        "  trec = 0\n",
        "\n",
        "  length = len(preds)\n",
        "  for i in range(length):\n",
        "    #false positive check \n",
        "    if preds[i] != test[i]:\n",
        "      #0 class false pos\n",
        "      if preds[i] == 0:\n",
        "        temp = zfp + 1\n",
        "        zfp = temp\n",
        "      #1 class false pos\n",
        "      elif preds[i] == 1:\n",
        "        temp = ofp + 1\n",
        "        ofp = temp\n",
        "      #2 class false pos\n",
        "      elif preds[i] == 2:\n",
        "        temp = tfp + 1\n",
        "        tfp = temp\n",
        "\n",
        "    #true positive and false negative check\n",
        "    if test[i] == 0:\n",
        "      # 0 class true pos\n",
        "      if test[i] == preds[i]:\n",
        "        temp = ztp + 1\n",
        "        ztp = temp\n",
        "      #0 class false neg\n",
        "      else:\n",
        "        temp = zfn + 1\n",
        "        zfn = temp\n",
        "    elif test[i] == 1:\n",
        "      #1 class true pos\n",
        "      if test[i] == preds[i]:\n",
        "        temp = otp + 1\n",
        "        otp = temp\n",
        "      #1 class false neg\n",
        "      else:\n",
        "        temp = ofn + 1\n",
        "        ofn = temp\n",
        "    elif test[i] == 2:\n",
        "      #2 class true pos\n",
        "      if test[i] == preds[i]:\n",
        "        temp = ttp + 1\n",
        "        ttp = temp\n",
        "      #1 class false neg\n",
        "      else:\n",
        "        temp = tfn + 1\n",
        "        tfn = temp\n",
        "\n",
        "  #calculate individual class precision (true pos)/(true pos + false pos)\n",
        "  zprec = ztp/(ztp+zfp)\n",
        "  oprec = otp/(otp+ofp)\n",
        "  tprec = ttp/(ttp+tfp)\n",
        "  precision = (zprec +oprec + tprec)/3\n",
        "\n",
        "  #calculate individual recall (true pos)/(true pos + false neg)\n",
        "  zrec = ztp/(ztp+zfn)\n",
        "  orec = otp/(otp+ofn)\n",
        "  trec = ttp/(ttp+tfn)\n",
        "  recall = (zrec +orec + trec)/3\n",
        "\n",
        "  return (2 * (precision * recall) / (precision + recall))"
      ],
      "execution_count": 0,
      "outputs": []
    },
    {
      "cell_type": "code",
      "metadata": {
        "id": "5FPlR3fv_asv",
        "colab_type": "code",
        "colab": {
          "base_uri": "https://localhost:8080/",
          "height": 34
        },
        "outputId": "84c6b5f5-73f9-4496-9f86-d7d1669eb647"
      },
      "source": [
        "# #metrics\n",
        "# from sklearn.metrics import f1_score\n",
        "\n",
        "# f1 = f1_score(oneDpreds, oneDtest)\n",
        "# print('F1 score: %f' % f1)\n",
        "f1 = f1calc(oneDpreds, oneDtest)\n",
        "print('F1 score: %f' % f1)"
      ],
      "execution_count": 191,
      "outputs": [
        {
          "output_type": "stream",
          "text": [
            "F1 score: 0.222222\n"
          ],
          "name": "stdout"
        }
      ]
    },
    {
      "cell_type": "code",
      "metadata": {
        "id": "BJ65I1aLGts2",
        "colab_type": "code",
        "colab": {}
      },
      "source": [
        "def plot_confusion_matrix(cm, classes,\n",
        "                          normalize=False,\n",
        "                          title='Confusion matrix',\n",
        "                          cmap=plt.cm.Blues):\n",
        "    \"\"\"\n",
        "    This function prints and plots the confusion matrix.\n",
        "    Normalization can be applied by setting `normalize=True`.\n",
        "    \"\"\"\n",
        "    plt.imshow(cm, interpolation='nearest', cmap=cmap)\n",
        "    plt.title(title)\n",
        "    plt.colorbar()\n",
        "    tick_marks = np.arange(len(classes))\n",
        "    plt.xticks(tick_marks, classes, rotation=45)\n",
        "    plt.yticks(tick_marks, classes)\n",
        "\n",
        "    if normalize:\n",
        "        cm = cm.astype('float') / cm.sum(axis=1)[:, np.newaxis]\n",
        "        print(\"Normalized confusion matrix\")\n",
        "    else:\n",
        "        print('Confusion matrix, without normalization')\n",
        "\n",
        "    print(cm)\n",
        "\n",
        "    thresh = cm.max() / 2.\n",
        "    for i, j in itertools.product(range(cm.shape[0]), range(cm.shape[1])):\n",
        "        plt.text(j, i, cm[i, j],\n",
        "                 horizontalalignment=\"center\",\n",
        "                 color=\"white\" if cm[i, j] > thresh else \"black\")\n",
        "\n",
        "    plt.tight_layout()\n",
        "    plt.ylabel('True label')\n",
        "    plt.xlabel('Predicted label')"
      ],
      "execution_count": 0,
      "outputs": []
    },
    {
      "cell_type": "code",
      "metadata": {
        "id": "I5thkIwvGyPK",
        "colab_type": "code",
        "outputId": "59478a84-b8f2-44ba-f7b1-c3e7ac9324a5",
        "colab": {
          "base_uri": "https://localhost:8080/",
          "height": 384
        }
      },
      "source": [
        "#first batch(10)\n",
        "cnf_matrix = confusion_matrix(test_labels, y_pred,labels=['nevus','basal_cell_carcinoma','vascular_lesion'])\n",
        "np.set_printoptions(precision=2)\n",
        "\n",
        "# Plot non-normalized confusion matrix\n",
        "plt.figure()\n",
        "plot_confusion_matrix(cnf_matrix, classes=['nevus','basal_cell_carcinoma','vascular_lesion'],\n",
        "                      title='Confusion matrix, without normalization')"
      ],
      "execution_count": 0,
      "outputs": [
        {
          "output_type": "stream",
          "text": [
            "Confusion matrix, without normalization\n",
            "[[0 0 3]\n",
            " [0 2 0]\n",
            " [0 0 1]]\n"
          ],
          "name": "stdout"
        },
        {
          "output_type": "display_data",
          "data": {
            "image/png": "[encoded data removed]",
            "text/plain": [
              "<Figure size 432x288 with 2 Axes>"
            ]
          },
          "metadata": {
            "tags": [],
            "needs_background": "light"
          }
        }
      ]
    }
  ]
}