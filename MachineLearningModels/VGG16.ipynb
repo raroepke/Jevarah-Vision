{
  "nbformat": 4,
  "nbformat_minor": 0,
  "metadata": {
    "colab": {
      "name": "VGG16.ipynb",
      "provenance": [],
      "include_colab_link": true
    },
    "kernelspec": {
      "name": "python3",
      "display_name": "Python 3"
    },
    "accelerator": "GPU"
  },
  "cells": [
    {
      "cell_type": "markdown",
      "metadata": {
        "id": "view-in-github",
        "colab_type": "text"
      },
      "source": [
        "<a href=\"https://colab.research.google.com/github/AvaPodrazhansky/Jevarah-Vision/blob/master/MachineLearningModels/VGG16.ipynb\" target=\"_parent\"><img src=\"https://colab.research.google.com/assets/colab-badge.svg\" alt=\"Open In Colab\"/></a>"
      ]
    },
    {
      "cell_type": "code",
      "metadata": {
        "id": "-U9Lt-CnVsGo",
        "colab_type": "code",
        "colab": {}
      },
      "source": [
        "#imports for keras\n",
        "%tensorflow_version 1.x\n",
        "import keras\n",
        "import numpy as np\n",
        "from keras import backend as K\n",
        "from keras.models import Sequential\n",
        "from keras.layers import Activation\n",
        "from keras.layers.core import Dense, Flatten\n",
        "from keras.optimizers import Adam \n",
        "from keras.metrics import categorical_crossentropy\n",
        "from keras.preprocessing.image import ImageDataGenerator\n",
        "from keras.layers.normalization import BatchNormalization\n",
        "from keras.layers.convolutional import *\n",
        "from keras.layers import Dense, Conv2D, MaxPool2D , Flatten\n",
        "import matplotlib.pyplot as plt\n",
        "from tensorflow.keras.utils import plot_model"
      ],
      "execution_count": 0,
      "outputs": []
    },
    {
      "cell_type": "code",
      "metadata": {
        "id": "VBj4xSKsCj2u",
        "colab_type": "code",
        "colab": {}
      },
      "source": [
        "from numpy import array\n",
        "from numpy import argmax\n",
        "from sklearn.metrics import confusion_matrix\n",
        "import itertools\n",
        "%matplotlib inline"
      ],
      "execution_count": 0,
      "outputs": []
    },
    {
      "cell_type": "code",
      "metadata": {
        "id": "Tga1A2WIbfNM",
        "colab_type": "code",
        "colab": {}
      },
      "source": [
        "train_path = '/content/drive/My Drive/GEN_DATA_TRAIN_TEST_VAL_unziped/GEN_DATA_TRAIN_TEST_VAL/train'\n",
        "test_path = '/content/drive/My Drive/GEN_DATA_TRAIN_TEST_VAL_unziped/GEN_DATA_TRAIN_TEST_VAL/test'\n",
        "valid_path = '/content/drive/My Drive/GEN_DATA_TRAIN_TEST_VAL_unziped/GEN_DATA_TRAIN_TEST_VAL/valid'"
      ],
      "execution_count": 0,
      "outputs": []
    },
    {
      "cell_type": "code",
      "metadata": {
        "id": "Ta-zfZQ6bmc_",
        "colab_type": "code",
        "outputId": "e6451efa-2536-4466-f6eb-ea450918cd80",
        "colab": {
          "base_uri": "https://localhost:8080/",
          "height": 72
        }
      },
      "source": [
        "train_batches = ImageDataGenerator().flow_from_directory(train_path, target_size=(224,224),classes=['nevus','basal_cell_carcinoma','vascular_lesion'],batch_size=10)\n",
        "test_batches = ImageDataGenerator().flow_from_directory(test_path, target_size=(224,224),classes=['nevus','basal_cell_carcinoma','vascular_lesion'],batch_size=25)\n",
        "valid_batches = ImageDataGenerator().flow_from_directory(valid_path, target_size=(224,224),classes=['nevus','basal_cell_carcinoma','vascular_lesion'],batch_size=10)"
      ],
      "execution_count": 0,
      "outputs": [
        {
          "output_type": "stream",
          "text": [
            "Found 950 images belonging to 3 classes.\n",
            "Found 119 images belonging to 3 classes.\n",
            "Found 119 images belonging to 3 classes.\n"
          ],
          "name": "stdout"
        }
      ]
    },
    {
      "cell_type": "code",
      "metadata": {
        "id": "6jDkVtk8brW4",
        "colab_type": "code",
        "colab": {}
      },
      "source": [
        "imgs, labels = next(train_batches)"
      ],
      "execution_count": 0,
      "outputs": []
    },
    {
      "cell_type": "code",
      "metadata": {
        "id": "KnelcikIbtNd",
        "colab_type": "code",
        "colab": {}
      },
      "source": [
        "# plots images with labels within jupyter notebook\n",
        "def plots(ims, figsize=(12,6), rows=1, interp=False, titles=None):\n",
        "    if type(ims[0]) is np.ndarray:\n",
        "        ims = np.array(ims).astype(np.uint8)\n",
        "        if (ims.shape[-1] != 3):\n",
        "            ims = ims.transpose((0,2,3,1))\n",
        "    f = plt.figure(figsize=figsize)\n",
        "    cols = len(ims)//rows if len(ims) % 2 == 0 else len(ims)//rows + 1\n",
        "    for i in range(len(ims)):\n",
        "        sp = f.add_subplot(rows, cols, i+1)\n",
        "        sp.axis('Off')\n",
        "        if titles is not None:\n",
        "            sp.set_title(titles[i], fontsize=16)\n",
        "        plt.imshow(ims[i], interpolation=None if interp else 'none')"
      ],
      "execution_count": 0,
      "outputs": []
    },
    {
      "cell_type": "code",
      "metadata": {
        "id": "V8NoIyAdbvm7",
        "colab_type": "code",
        "outputId": "696c62ea-18b3-4ddc-c492-9be6346d3901",
        "colab": {
          "base_uri": "https://localhost:8080/",
          "height": 163
        }
      },
      "source": [
        "plots(imgs, titles=labels)"
      ],
      "execution_count": 0,
      "outputs": [
        {
          "output_type": "stream",
          "text": [
            "/usr/local/lib/python3.6/dist-packages/matplotlib/text.py:1165: FutureWarning: elementwise comparison failed; returning scalar instead, but in the future will perform elementwise comparison\n",
            "  if s != self._text:\n"
          ],
          "name": "stderr"
        },
        {
          "output_type": "display_data",
          "data": {
            "image/png": "[encoded data removed]",
            "text/plain": [
              "<Figure size 864x432 with 10 Axes>"
            ]
          },
          "metadata": {
            "tags": [],
            "needs_background": "light"
          }
        }
      ]
    },
    {
      "cell_type": "code",
      "metadata": {
        "id": "PKgKCGY-bxc5",
        "colab_type": "code",
        "colab": {}
      },
      "source": [
        "model = Sequential()\n",
        "model.add(Conv2D(input_shape=(224,224,3),filters=64,kernel_size=(3,3),padding=\"same\", activation=\"relu\"))\n",
        "model.add(Conv2D(filters=64,kernel_size=(3,3),padding=\"same\", activation=\"relu\"))\n",
        "model.add(MaxPool2D(pool_size=(2,2),strides=(2,2)))\n",
        "model.add(Conv2D(filters=128, kernel_size=(3,3), padding=\"same\", activation=\"relu\"))\n",
        "model.add(Conv2D(filters=128, kernel_size=(3,3), padding=\"same\", activation=\"relu\"))\n",
        "model.add(MaxPool2D(pool_size=(2,2),strides=(2,2)))\n",
        "model.add(Conv2D(filters=256, kernel_size=(3,3), padding=\"same\", activation=\"relu\"))\n",
        "model.add(Conv2D(filters=256, kernel_size=(3,3), padding=\"same\", activation=\"relu\"))\n",
        "model.add(Conv2D(filters=256, kernel_size=(3,3), padding=\"same\", activation=\"relu\"))\n",
        "model.add(MaxPool2D(pool_size=(2,2),strides=(2,2)))\n",
        "model.add(Conv2D(filters=512, kernel_size=(3,3), padding=\"same\", activation=\"relu\"))\n",
        "model.add(Conv2D(filters=512, kernel_size=(3,3), padding=\"same\", activation=\"relu\"))\n",
        "model.add(Conv2D(filters=512, kernel_size=(3,3), padding=\"same\", activation=\"relu\"))\n",
        "model.add(MaxPool2D(pool_size=(2,2),strides=(2,2)))\n",
        "model.add(Conv2D(filters=512, kernel_size=(3,3), padding=\"same\", activation=\"relu\"))\n",
        "model.add(Conv2D(filters=512, kernel_size=(3,3), padding=\"same\", activation=\"relu\"))\n",
        "model.add(Conv2D(filters=512, kernel_size=(3,3), padding=\"same\", activation=\"relu\"))\n",
        "model.add(MaxPool2D(pool_size=(2,2),strides=(2,2)))\n",
        "model.add(Flatten())\n",
        "model.add(Dense(units=4096,activation=\"relu\"))\n",
        "model.add(Dense(units=4096,activation=\"relu\"))\n",
        "model.add(Dense(units=3, activation=\"softmax\"))\n",
        "\n",
        "\n"
      ],
      "execution_count": 0,
      "outputs": []
    },
    {
      "cell_type": "code",
      "metadata": {
        "id": "ein2JCB2oxK0",
        "colab_type": "code",
        "colab": {}
      },
      "source": [
        "from keras.optimizers import Adam\n",
        "opt = Adam(lr=0.001)\n",
        "model.compile(optimizer=opt, loss=keras.losses.categorical_crossentropy, metrics=['accuracy'])"
      ],
      "execution_count": 0,
      "outputs": []
    },
    {
      "cell_type": "code",
      "metadata": {
        "id": "-mCeOQgsb1O8",
        "colab_type": "code",
        "outputId": "1f773e63-416f-445a-8631-b6d860eaa991",
        "colab": {
          "base_uri": "https://localhost:8080/",
          "height": 1000
        }
      },
      "source": [
        "from keras.callbacks import ModelCheckpoint, EarlyStopping\n",
        "checkpoint = ModelCheckpoint(\"vgg16_1.h5\", monitor='val_acc', verbose=1, save_best_only=True, save_weights_only=False, mode='auto', period=1)\n",
        "early = EarlyStopping(monitor='val_acc', min_delta=0, patience=20, verbose=1, mode='auto')\n",
        "hist = model.fit_generator(steps_per_epoch=10,generator=train_batches, validation_data= valid_batches, validation_steps=2,epochs=100,callbacks=[checkpoint,early])"
      ],
      "execution_count": 0,
      "outputs": [
        {
          "output_type": "stream",
          "text": [
            "Epoch 1/100\n",
            "10/10 [==============================] - 27s 3s/step - loss: 1.0502 - accuracy: 0.4100 - val_loss: 0.8737 - val_accuracy: 0.7000\n",
            "Epoch 2/100\n"
          ],
          "name": "stdout"
        },
        {
          "output_type": "stream",
          "text": [
            "/usr/local/lib/python3.6/dist-packages/keras/callbacks/callbacks.py:707: RuntimeWarning: Can save best model only with val_acc available, skipping.\n",
            "  'skipping.' % (self.monitor), RuntimeWarning)\n",
            "/usr/local/lib/python3.6/dist-packages/keras/callbacks/callbacks.py:846: RuntimeWarning: Early stopping conditioned on metric `val_acc` which is not available. Available metrics are: val_loss,val_accuracy,loss,accuracy\n",
            "  (self.monitor, ','.join(list(logs.keys()))), RuntimeWarning\n"
          ],
          "name": "stderr"
        },
        {
          "output_type": "stream",
          "text": [
            "10/10 [==============================] - 31s 3s/step - loss: 0.9771 - accuracy: 0.5900 - val_loss: 0.7740 - val_accuracy: 0.6000\n",
            "Epoch 3/100\n",
            "10/10 [==============================] - 23s 2s/step - loss: 0.9275 - accuracy: 0.6100 - val_loss: 1.2130 - val_accuracy: 0.4500\n",
            "Epoch 4/100\n",
            "10/10 [==============================] - 24s 2s/step - loss: 1.1814 - accuracy: 0.4000 - val_loss: 1.0612 - val_accuracy: 0.6000\n",
            "Epoch 5/100\n",
            "10/10 [==============================] - 22s 2s/step - loss: 1.0699 - accuracy: 0.3600 - val_loss: 1.0835 - val_accuracy: 0.3500\n",
            "Epoch 6/100\n",
            "10/10 [==============================] - 26s 3s/step - loss: 1.0046 - accuracy: 0.4900 - val_loss: 0.9371 - val_accuracy: 0.2105\n",
            "Epoch 7/100\n",
            "10/10 [==============================] - 24s 2s/step - loss: 1.0142 - accuracy: 0.3700 - val_loss: 0.8822 - val_accuracy: 0.5000\n",
            "Epoch 8/100\n",
            "10/10 [==============================] - 26s 3s/step - loss: 0.9239 - accuracy: 0.5900 - val_loss: 1.0426 - val_accuracy: 0.3500\n",
            "Epoch 9/100\n",
            "10/10 [==============================] - 19s 2s/step - loss: 1.0947 - accuracy: 0.4000 - val_loss: 0.9040 - val_accuracy: 0.4500\n",
            "Epoch 10/100\n",
            "10/10 [==============================] - 8s 813ms/step - loss: 1.0771 - accuracy: 0.3500 - val_loss: 0.9207 - val_accuracy: 0.6500\n",
            "Epoch 11/100\n",
            "10/10 [==============================] - 3s 338ms/step - loss: 1.0670 - accuracy: 0.4100 - val_loss: 1.1613 - val_accuracy: 0.2000\n",
            "Epoch 12/100\n",
            "10/10 [==============================] - 3s 337ms/step - loss: 1.0345 - accuracy: 0.4100 - val_loss: 1.1095 - val_accuracy: 0.4211\n",
            "Epoch 13/100\n",
            "10/10 [==============================] - 3s 339ms/step - loss: 0.9686 - accuracy: 0.4700 - val_loss: 0.8182 - val_accuracy: 0.4500\n",
            "Epoch 14/100\n",
            "10/10 [==============================] - 3s 338ms/step - loss: 0.9415 - accuracy: 0.5700 - val_loss: 1.0989 - val_accuracy: 0.5500\n",
            "Epoch 15/100\n",
            "10/10 [==============================] - 3s 339ms/step - loss: 0.7241 - accuracy: 0.6400 - val_loss: 0.9066 - val_accuracy: 0.6000\n",
            "Epoch 16/100\n",
            "10/10 [==============================] - 3s 340ms/step - loss: 0.6550 - accuracy: 0.6500 - val_loss: 0.6807 - val_accuracy: 0.6500\n",
            "Epoch 17/100\n",
            "10/10 [==============================] - 3s 339ms/step - loss: 0.7848 - accuracy: 0.6800 - val_loss: 0.5526 - val_accuracy: 0.6000\n",
            "Epoch 18/100\n",
            "10/10 [==============================] - 3s 337ms/step - loss: 0.6297 - accuracy: 0.7300 - val_loss: 0.8066 - val_accuracy: 0.7368\n",
            "Epoch 19/100\n",
            "10/10 [==============================] - 3s 334ms/step - loss: 0.5777 - accuracy: 0.7200 - val_loss: 0.7035 - val_accuracy: 0.8000\n",
            "Epoch 20/100\n",
            "10/10 [==============================] - 3s 339ms/step - loss: 0.4649 - accuracy: 0.8100 - val_loss: 0.6347 - val_accuracy: 0.8000\n",
            "Epoch 21/100\n",
            "10/10 [==============================] - 3s 338ms/step - loss: 0.6045 - accuracy: 0.7300 - val_loss: 0.5908 - val_accuracy: 0.6500\n",
            "Epoch 22/100\n",
            "10/10 [==============================] - 3s 339ms/step - loss: 0.5907 - accuracy: 0.6500 - val_loss: 0.4446 - val_accuracy: 0.7000\n",
            "Epoch 23/100\n",
            "10/10 [==============================] - 3s 338ms/step - loss: 0.5073 - accuracy: 0.7500 - val_loss: 0.3598 - val_accuracy: 0.9500\n",
            "Epoch 24/100\n",
            "10/10 [==============================] - 3s 339ms/step - loss: 0.4522 - accuracy: 0.8800 - val_loss: 0.9383 - val_accuracy: 0.7895\n",
            "Epoch 25/100\n",
            "10/10 [==============================] - 3s 339ms/step - loss: 0.3604 - accuracy: 0.8700 - val_loss: 0.4292 - val_accuracy: 0.9500\n",
            "Epoch 26/100\n",
            "10/10 [==============================] - 3s 337ms/step - loss: 0.3636 - accuracy: 0.8600 - val_loss: 0.3689 - val_accuracy: 0.7500\n",
            "Epoch 27/100\n",
            "10/10 [==============================] - 3s 339ms/step - loss: 0.3172 - accuracy: 0.8800 - val_loss: 0.1986 - val_accuracy: 0.9000\n",
            "Epoch 28/100\n",
            "10/10 [==============================] - 3s 339ms/step - loss: 0.3107 - accuracy: 0.8800 - val_loss: 0.0912 - val_accuracy: 0.8500\n",
            "Epoch 29/100\n",
            "10/10 [==============================] - 3s 338ms/step - loss: 0.2076 - accuracy: 0.9200 - val_loss: 0.0660 - val_accuracy: 1.0000\n",
            "Epoch 30/100\n",
            "10/10 [==============================] - 3s 338ms/step - loss: 0.3204 - accuracy: 0.8800 - val_loss: 0.4997 - val_accuracy: 0.7895\n",
            "Epoch 31/100\n",
            "10/10 [==============================] - 3s 340ms/step - loss: 0.2670 - accuracy: 0.9100 - val_loss: 1.0369 - val_accuracy: 0.6500\n",
            "Epoch 32/100\n",
            "10/10 [==============================] - 3s 340ms/step - loss: 0.5745 - accuracy: 0.8100 - val_loss: 0.3831 - val_accuracy: 0.8500\n",
            "Epoch 33/100\n",
            "10/10 [==============================] - 3s 338ms/step - loss: 0.3831 - accuracy: 0.8400 - val_loss: 0.3444 - val_accuracy: 0.9500\n",
            "Epoch 34/100\n",
            "10/10 [==============================] - 3s 339ms/step - loss: 0.2723 - accuracy: 0.9100 - val_loss: 0.3075 - val_accuracy: 0.8500\n",
            "Epoch 35/100\n",
            "10/10 [==============================] - 3s 339ms/step - loss: 0.3806 - accuracy: 0.8200 - val_loss: 0.4525 - val_accuracy: 0.8500\n",
            "Epoch 36/100\n",
            "10/10 [==============================] - 3s 340ms/step - loss: 0.3382 - accuracy: 0.8800 - val_loss: 0.2160 - val_accuracy: 0.7895\n",
            "Epoch 37/100\n",
            "10/10 [==============================] - 3s 339ms/step - loss: 0.2562 - accuracy: 0.8900 - val_loss: 0.3349 - val_accuracy: 0.9000\n",
            "Epoch 38/100\n",
            "10/10 [==============================] - 3s 337ms/step - loss: 0.3206 - accuracy: 0.8800 - val_loss: 0.1301 - val_accuracy: 0.9500\n",
            "Epoch 39/100\n",
            "10/10 [==============================] - 3s 339ms/step - loss: 0.2627 - accuracy: 0.9100 - val_loss: 0.3102 - val_accuracy: 0.8000\n",
            "Epoch 40/100\n",
            "10/10 [==============================] - 3s 339ms/step - loss: 0.2245 - accuracy: 0.9100 - val_loss: 0.0613 - val_accuracy: 0.9500\n",
            "Epoch 41/100\n",
            "10/10 [==============================] - 3s 340ms/step - loss: 0.2723 - accuracy: 0.9400 - val_loss: 0.2613 - val_accuracy: 0.9500\n",
            "Epoch 42/100\n",
            "10/10 [==============================] - 3s 341ms/step - loss: 0.2225 - accuracy: 0.9100 - val_loss: 0.1431 - val_accuracy: 0.9474\n",
            "Epoch 43/100\n",
            "10/10 [==============================] - 3s 340ms/step - loss: 0.3308 - accuracy: 0.8700 - val_loss: 0.2271 - val_accuracy: 0.9500\n",
            "Epoch 44/100\n",
            "10/10 [==============================] - 3s 339ms/step - loss: 0.2776 - accuracy: 0.8700 - val_loss: 0.0740 - val_accuracy: 1.0000\n",
            "Epoch 45/100\n",
            "10/10 [==============================] - 3s 340ms/step - loss: 0.1695 - accuracy: 0.9300 - val_loss: 0.0457 - val_accuracy: 0.9000\n",
            "Epoch 46/100\n",
            "10/10 [==============================] - 3s 341ms/step - loss: 0.2614 - accuracy: 0.8700 - val_loss: 0.0870 - val_accuracy: 0.9500\n",
            "Epoch 47/100\n",
            "10/10 [==============================] - 3s 339ms/step - loss: 0.2545 - accuracy: 0.8800 - val_loss: 0.4758 - val_accuracy: 0.8000\n",
            "Epoch 48/100\n",
            "10/10 [==============================] - 3s 339ms/step - loss: 0.3148 - accuracy: 0.9100 - val_loss: 0.0448 - val_accuracy: 1.0000\n",
            "Epoch 49/100\n",
            "10/10 [==============================] - 3s 340ms/step - loss: 0.2852 - accuracy: 0.9100 - val_loss: 0.1813 - val_accuracy: 0.9000\n",
            "Epoch 50/100\n",
            "10/10 [==============================] - 3s 341ms/step - loss: 0.3442 - accuracy: 0.8900 - val_loss: 0.3031 - val_accuracy: 0.8000\n",
            "Epoch 51/100\n",
            "10/10 [==============================] - 3s 340ms/step - loss: 0.2671 - accuracy: 0.8800 - val_loss: 0.1091 - val_accuracy: 0.9000\n",
            "Epoch 52/100\n",
            "10/10 [==============================] - 3s 340ms/step - loss: 0.3217 - accuracy: 0.8700 - val_loss: 0.3007 - val_accuracy: 0.9500\n",
            "Epoch 53/100\n",
            "10/10 [==============================] - 3s 340ms/step - loss: 0.3378 - accuracy: 0.9100 - val_loss: 0.3852 - val_accuracy: 0.9500\n",
            "Epoch 54/100\n",
            "10/10 [==============================] - 3s 339ms/step - loss: 0.2753 - accuracy: 0.9400 - val_loss: 0.2957 - val_accuracy: 0.9474\n",
            "Epoch 55/100\n",
            "10/10 [==============================] - 3s 339ms/step - loss: 0.2649 - accuracy: 0.8900 - val_loss: 0.2238 - val_accuracy: 0.9500\n",
            "Epoch 56/100\n",
            "10/10 [==============================] - 3s 343ms/step - loss: 0.2704 - accuracy: 0.9200 - val_loss: 0.4481 - val_accuracy: 0.7500\n",
            "Epoch 57/100\n",
            "10/10 [==============================] - 3s 338ms/step - loss: 0.1988 - accuracy: 0.9100 - val_loss: 0.0576 - val_accuracy: 0.9500\n",
            "Epoch 58/100\n",
            "10/10 [==============================] - 3s 339ms/step - loss: 0.3164 - accuracy: 0.9200 - val_loss: 0.3871 - val_accuracy: 0.8000\n",
            "Epoch 59/100\n",
            "10/10 [==============================] - 3s 341ms/step - loss: 0.4388 - accuracy: 0.8200 - val_loss: 0.1213 - val_accuracy: 1.0000\n",
            "Epoch 60/100\n",
            "10/10 [==============================] - 3s 341ms/step - loss: 0.3063 - accuracy: 0.8800 - val_loss: 0.2079 - val_accuracy: 0.9474\n",
            "Epoch 61/100\n",
            "10/10 [==============================] - 3s 340ms/step - loss: 0.2193 - accuracy: 0.9100 - val_loss: 0.3385 - val_accuracy: 0.8500\n",
            "Epoch 62/100\n",
            "10/10 [==============================] - 3s 339ms/step - loss: 0.3907 - accuracy: 0.8600 - val_loss: 0.4705 - val_accuracy: 0.6500\n",
            "Epoch 63/100\n",
            "10/10 [==============================] - 3s 341ms/step - loss: 0.3354 - accuracy: 0.8600 - val_loss: 0.0581 - val_accuracy: 0.9500\n",
            "Epoch 64/100\n",
            "10/10 [==============================] - 3s 340ms/step - loss: 0.3758 - accuracy: 0.8500 - val_loss: 0.4220 - val_accuracy: 0.7500\n",
            "Epoch 65/100\n",
            "10/10 [==============================] - 3s 342ms/step - loss: 0.3450 - accuracy: 0.8700 - val_loss: 0.1427 - val_accuracy: 0.9000\n",
            "Epoch 66/100\n",
            "10/10 [==============================] - 3s 340ms/step - loss: 0.2531 - accuracy: 0.9300 - val_loss: 0.6048 - val_accuracy: 0.8421\n",
            "Epoch 67/100\n",
            "10/10 [==============================] - 3s 339ms/step - loss: 0.2037 - accuracy: 0.9100 - val_loss: 0.4353 - val_accuracy: 0.8500\n",
            "Epoch 68/100\n",
            "10/10 [==============================] - 3s 342ms/step - loss: 0.1586 - accuracy: 0.9600 - val_loss: 0.0540 - val_accuracy: 1.0000\n",
            "Epoch 69/100\n",
            "10/10 [==============================] - 3s 342ms/step - loss: 0.2355 - accuracy: 0.9100 - val_loss: 0.1048 - val_accuracy: 0.9000\n",
            "Epoch 70/100\n",
            "10/10 [==============================] - 3s 339ms/step - loss: 0.2064 - accuracy: 0.9200 - val_loss: 0.0361 - val_accuracy: 0.9500\n",
            "Epoch 71/100\n",
            "10/10 [==============================] - 3s 343ms/step - loss: 0.1925 - accuracy: 0.9300 - val_loss: 0.6839 - val_accuracy: 0.6500\n",
            "Epoch 72/100\n",
            "10/10 [==============================] - 3s 340ms/step - loss: 0.4723 - accuracy: 0.8600 - val_loss: 0.3672 - val_accuracy: 0.8421\n",
            "Epoch 73/100\n",
            "10/10 [==============================] - 3s 342ms/step - loss: 0.2518 - accuracy: 0.9200 - val_loss: 0.2266 - val_accuracy: 0.9500\n",
            "Epoch 74/100\n",
            "10/10 [==============================] - 3s 340ms/step - loss: 0.2754 - accuracy: 0.8900 - val_loss: 0.1086 - val_accuracy: 0.9500\n",
            "Epoch 75/100\n",
            "10/10 [==============================] - 3s 339ms/step - loss: 0.2433 - accuracy: 0.8900 - val_loss: 0.1836 - val_accuracy: 0.9500\n",
            "Epoch 76/100\n",
            "10/10 [==============================] - 3s 338ms/step - loss: 0.1565 - accuracy: 0.9600 - val_loss: 0.4442 - val_accuracy: 0.8500\n",
            "Epoch 77/100\n",
            "10/10 [==============================] - 3s 340ms/step - loss: 0.1822 - accuracy: 0.9200 - val_loss: 0.1285 - val_accuracy: 1.0000\n",
            "Epoch 78/100\n",
            "10/10 [==============================] - 3s 341ms/step - loss: 0.2877 - accuracy: 0.9000 - val_loss: 0.1544 - val_accuracy: 0.8947\n",
            "Epoch 79/100\n",
            "10/10 [==============================] - 3s 341ms/step - loss: 0.3788 - accuracy: 0.8600 - val_loss: 0.0766 - val_accuracy: 0.9500\n",
            "Epoch 80/100\n",
            "10/10 [==============================] - 3s 339ms/step - loss: 0.3259 - accuracy: 0.8900 - val_loss: 0.2779 - val_accuracy: 0.8000\n",
            "Epoch 81/100\n",
            "10/10 [==============================] - 3s 340ms/step - loss: 0.2023 - accuracy: 0.9300 - val_loss: 0.4034 - val_accuracy: 0.8000\n",
            "Epoch 82/100\n",
            "10/10 [==============================] - 3s 340ms/step - loss: 0.1911 - accuracy: 0.9200 - val_loss: 0.6315 - val_accuracy: 0.8500\n",
            "Epoch 83/100\n",
            "10/10 [==============================] - 3s 340ms/step - loss: 0.1986 - accuracy: 0.9300 - val_loss: 0.0890 - val_accuracy: 0.9000\n",
            "Epoch 84/100\n",
            "10/10 [==============================] - 3s 342ms/step - loss: 0.1760 - accuracy: 0.9100 - val_loss: 0.0291 - val_accuracy: 0.9474\n",
            "Epoch 85/100\n",
            "10/10 [==============================] - 3s 340ms/step - loss: 0.1860 - accuracy: 0.9300 - val_loss: 0.0819 - val_accuracy: 0.9500\n",
            "Epoch 86/100\n",
            "10/10 [==============================] - 3s 341ms/step - loss: 0.3833 - accuracy: 0.8900 - val_loss: 0.3965 - val_accuracy: 0.9500\n",
            "Epoch 87/100\n",
            "10/10 [==============================] - 3s 342ms/step - loss: 0.5491 - accuracy: 0.8300 - val_loss: 0.5963 - val_accuracy: 0.7500\n",
            "Epoch 88/100\n",
            "10/10 [==============================] - 3s 341ms/step - loss: 0.3322 - accuracy: 0.8700 - val_loss: 0.1352 - val_accuracy: 0.9500\n",
            "Epoch 89/100\n",
            "10/10 [==============================] - 3s 342ms/step - loss: 0.3388 - accuracy: 0.8600 - val_loss: 0.4050 - val_accuracy: 0.8500\n",
            "Epoch 90/100\n",
            "10/10 [==============================] - 3s 340ms/step - loss: 0.3476 - accuracy: 0.8300 - val_loss: 0.1788 - val_accuracy: 0.8947\n",
            "Epoch 91/100\n",
            "10/10 [==============================] - 3s 339ms/step - loss: 0.1840 - accuracy: 0.9400 - val_loss: 0.1697 - val_accuracy: 0.9500\n",
            "Epoch 92/100\n",
            "10/10 [==============================] - 3s 341ms/step - loss: 0.2179 - accuracy: 0.9100 - val_loss: 0.2863 - val_accuracy: 0.9000\n",
            "Epoch 93/100\n",
            "10/10 [==============================] - 3s 341ms/step - loss: 0.2760 - accuracy: 0.9000 - val_loss: 0.2212 - val_accuracy: 0.8500\n",
            "Epoch 94/100\n",
            "10/10 [==============================] - 3s 339ms/step - loss: 0.1795 - accuracy: 0.9300 - val_loss: 0.3606 - val_accuracy: 0.8500\n",
            "Epoch 95/100\n",
            "10/10 [==============================] - 3s 337ms/step - loss: 0.6036 - accuracy: 0.7400 - val_loss: 0.3820 - val_accuracy: 0.5500\n",
            "Epoch 96/100\n",
            "10/10 [==============================] - 3s 341ms/step - loss: 0.4414 - accuracy: 0.7700 - val_loss: 0.3403 - val_accuracy: 0.7895\n",
            "Epoch 97/100\n",
            "10/10 [==============================] - 3s 340ms/step - loss: 0.2270 - accuracy: 0.9000 - val_loss: 0.3260 - val_accuracy: 0.8500\n",
            "Epoch 98/100\n",
            "10/10 [==============================] - 3s 339ms/step - loss: 0.1163 - accuracy: 0.9600 - val_loss: 0.1403 - val_accuracy: 0.9500\n",
            "Epoch 99/100\n",
            "10/10 [==============================] - 3s 341ms/step - loss: 0.1891 - accuracy: 0.9400 - val_loss: 0.0833 - val_accuracy: 0.9500\n",
            "Epoch 100/100\n",
            "10/10 [==============================] - 3s 342ms/step - loss: 0.2334 - accuracy: 0.9300 - val_loss: 0.2181 - val_accuracy: 0.9000\n"
          ],
          "name": "stdout"
        }
      ]
    },
    {
      "cell_type": "code",
      "metadata": {
        "id": "i7Rw0tfOb4Gw",
        "colab_type": "code",
        "outputId": "4392f501-f5f6-4e47-ae85-8315f0c6dd62",
        "colab": {
          "base_uri": "https://localhost:8080/",
          "height": 127
        }
      },
      "source": [
        "test_imgs, test_labels = next(test_batches)\n",
        "plots(test_imgs,titles=test_labels)"
      ],
      "execution_count": 0,
      "outputs": [
        {
          "output_type": "stream",
          "text": [
            "/usr/local/lib/python3.6/dist-packages/matplotlib/text.py:1165: FutureWarning: elementwise comparison failed; returning scalar instead, but in the future will perform elementwise comparison\n",
            "  if s != self._text:\n"
          ],
          "name": "stderr"
        },
        {
          "output_type": "display_data",
          "data": {
            "image/png": "[encoded data removed]",
            "text/plain": [
              "<Figure size 864x432 with 25 Axes>"
            ]
          },
          "metadata": {
            "tags": [],
            "needs_background": "light"
          }
        }
      ]
    },
    {
      "cell_type": "code",
      "metadata": {
        "id": "a9le-pxob6ma",
        "colab_type": "code",
        "outputId": "95dca17a-a213-445a-8702-6ceefe1df5ae",
        "colab": {
          "base_uri": "https://localhost:8080/",
          "height": 472
        }
      },
      "source": [
        "# test_labels = test_labels[:,0]\n",
        "test_labels"
      ],
      "execution_count": 0,
      "outputs": [
        {
          "output_type": "execute_result",
          "data": {
            "text/plain": [
              "array([[1., 0., 0.],\n",
              "       [1., 0., 0.],\n",
              "       [1., 0., 0.],\n",
              "       [0., 1., 0.],\n",
              "       [1., 0., 0.],\n",
              "       [0., 0., 1.],\n",
              "       [0., 0., 1.],\n",
              "       [0., 1., 0.],\n",
              "       [1., 0., 0.],\n",
              "       [1., 0., 0.],\n",
              "       [0., 1., 0.],\n",
              "       [1., 0., 0.],\n",
              "       [0., 0., 1.],\n",
              "       [0., 0., 1.],\n",
              "       [0., 1., 0.],\n",
              "       [1., 0., 0.],\n",
              "       [0., 0., 1.],\n",
              "       [0., 0., 1.],\n",
              "       [1., 0., 0.],\n",
              "       [1., 0., 0.],\n",
              "       [0., 0., 1.],\n",
              "       [0., 0., 1.],\n",
              "       [0., 1., 0.],\n",
              "       [0., 0., 1.],\n",
              "       [1., 0., 0.]], dtype=float32)"
            ]
          },
          "metadata": {
            "tags": []
          },
          "execution_count": 31
        }
      ]
    },
    {
      "cell_type": "code",
      "metadata": {
        "id": "EfqDVhLrb8j_",
        "colab_type": "code",
        "outputId": "c21f2add-d196-4568-a85c-2ed6a1ac0bfd",
        "colab": {
          "base_uri": "https://localhost:8080/",
          "height": 35
        }
      },
      "source": [
        "predictions = model.predict_generator(test_batches,steps=1,verbose=1)"
      ],
      "execution_count": 0,
      "outputs": [
        {
          "output_type": "stream",
          "text": [
            "\r1/1 [==============================] - 0s 218ms/step\n"
          ],
          "name": "stdout"
        }
      ]
    },
    {
      "cell_type": "code",
      "metadata": {
        "id": "BJ65I1aLGts2",
        "colab_type": "code",
        "colab": {}
      },
      "source": [
        "def plot_confusion_matrix(cm, classes,\n",
        "                          normalize=False,\n",
        "                          title='Confusion matrix',\n",
        "                          cmap=plt.cm.Blues):\n",
        "    \"\"\"\n",
        "    This function prints and plots the confusion matrix.\n",
        "    Normalization can be applied by setting `normalize=True`.\n",
        "    \"\"\"\n",
        "    plt.imshow(cm, interpolation='nearest', cmap=cmap)\n",
        "    plt.title(title)\n",
        "    plt.colorbar()\n",
        "    tick_marks = np.arange(len(classes))\n",
        "    plt.xticks(tick_marks, classes, rotation=45)\n",
        "    plt.yticks(tick_marks, classes)\n",
        "\n",
        "    if normalize:\n",
        "        cm = cm.astype('float') / cm.sum(axis=1)[:, np.newaxis]\n",
        "        print(\"Normalized confusion matrix\")\n",
        "    else:\n",
        "        print('Confusion matrix, without normalization')\n",
        "\n",
        "    print(cm)\n",
        "\n",
        "    thresh = cm.max() / 2.\n",
        "    for i, j in itertools.product(range(cm.shape[0]), range(cm.shape[1])):\n",
        "        plt.text(j, i, cm[i, j],\n",
        "                 horizontalalignment=\"center\",\n",
        "                 color=\"white\" if cm[i, j] > thresh else \"black\")\n",
        "\n",
        "    plt.tight_layout()\n",
        "    plt.ylabel('True label')\n",
        "    plt.xlabel('Predicted label')"
      ],
      "execution_count": 0,
      "outputs": []
    },
    {
      "cell_type": "code",
      "metadata": {
        "id": "I5thkIwvGyPK",
        "colab_type": "code",
        "outputId": "59478a84-b8f2-44ba-f7b1-c3e7ac9324a5",
        "colab": {
          "base_uri": "https://localhost:8080/",
          "height": 384
        }
      },
      "source": [
        "#first batch(10)\n",
        "cnf_matrix = confusion_matrix(test_labels, y_pred,labels=['nevus','basal_cell_carcinoma','vascular_lesion'])\n",
        "np.set_printoptions(precision=2)\n",
        "\n",
        "# Plot non-normalized confusion matrix\n",
        "plt.figure()\n",
        "plot_confusion_matrix(cnf_matrix, classes=['nevus','basal_cell_carcinoma','vascular_lesion'],\n",
        "                      title='Confusion matrix, without normalization')"
      ],
      "execution_count": 0,
      "outputs": [
        {
          "output_type": "stream",
          "text": [
            "Confusion matrix, without normalization\n",
            "[[0 0 3]\n",
            " [0 2 0]\n",
            " [0 0 1]]\n"
          ],
          "name": "stdout"
        },
        {
          "output_type": "display_data",
          "data": {
            "image/png": "[encoded data removed]",
            "text/plain": [
              "<Figure size 432x288 with 2 Axes>"
            ]
          },
          "metadata": {
            "tags": [],
            "needs_background": "light"
          }
        }
      ]
    },
    {
      "cell_type": "code",
      "metadata": {
        "id": "Ubz4K8Ew7WUz",
        "colab_type": "code",
        "outputId": "4dadd397-4dfa-4b23-8ebd-3a4bfd20dd69",
        "colab": {
          "base_uri": "https://localhost:8080/",
          "height": 384
        }
      },
      "source": [
        "#first batch(20)\n",
        "cnf_matrix = confusion_matrix(y_true, y_pred,labels=['nevus','basal_cell_carcinoma','vascular_lesion'])\n",
        "np.set_printoptions(precision=2)\n",
        "\n",
        "# Plot non-normalized confusion matrix\n",
        "plt.figure()\n",
        "plot_confusion_matrix(cnf_matrix, classes=['nevus','basal_cell_carcinoma','vascular_lesion'],\n",
        "                      title='Confusion matrix, without normalization')"
      ],
      "execution_count": 0,
      "outputs": [
        {
          "output_type": "stream",
          "text": [
            "Confusion matrix, without normalization\n",
            "[[0 0 3]\n",
            " [0 2 0]\n",
            " [0 0 1]]\n"
          ],
          "name": "stdout"
        },
        {
          "output_type": "display_data",
          "data": {
            "image/png": "[encoded data removed]",
            "text/plain": [
              "<Figure size 432x288 with 2 Axes>"
            ]
          },
          "metadata": {
            "tags": [],
            "needs_background": "light"
          }
        }
      ]
    },
    {
      "cell_type": "code",
      "metadata": {
        "id": "yCXO7Q0yoCa2",
        "colab_type": "code",
        "colab": {}
      },
      "source": [
        "#first batch(30)\n",
        "cnf_matrix = confusion_matrix(y_true, y_pred,labels=['nevus','basal_cell_carcinoma','vascular_lesion'])\n",
        "np.set_printoptions(precision=2)\n",
        "\n",
        "# Plot non-normalized confusion matrix\n",
        "plt.figure()\n",
        "plot_confusion_matrix(cnf_matrix, classes=['nevus','basal_cell_carcinoma','vascular_lesion'],\n",
        "                      title='Confusion matrix, without normalization')"
      ],
      "execution_count": 0,
      "outputs": []
    }
  ]
}