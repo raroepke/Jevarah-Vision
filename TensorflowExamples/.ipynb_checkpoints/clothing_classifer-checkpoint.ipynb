{
 "cells": [
  {
   "cell_type": "markdown",
   "metadata": {},
   "source": [
    "# Image Clothing Classifer using CNN"
   ]
  },
  {
   "cell_type": "code",
   "execution_count": 1,
   "metadata": {},
   "outputs": [],
   "source": [
    "import tensorflow as tf\n",
    "from tensorflow import keras\n",
    "import numpy as np\n",
    "%matplotlib inline\n",
    "import matplotlib.pyplot as plt\n",
    "from tensorflow.keras.utils import plot_model"
   ]
  },
  {
   "cell_type": "markdown",
   "metadata": {},
   "source": [
    "#### Import the dataset\n",
    "This is just a built in dataset from keras."
   ]
  },
  {
   "cell_type": "code",
   "execution_count": 2,
   "metadata": {},
   "outputs": [],
   "source": [
    "data = keras.datasets.fashion_mnist"
   ]
  },
  {
   "cell_type": "markdown",
   "metadata": {},
   "source": [
    "#### Break the data into train and test sections\n",
    "We might have to do this differently based on how our data is formatted."
   ]
  },
  {
   "cell_type": "code",
   "execution_count": 3,
   "metadata": {},
   "outputs": [],
   "source": [
    "(train_images, train_labels), (test_images, test_labels) = data.load_data()"
   ]
  },
  {
   "cell_type": "markdown",
   "metadata": {},
   "source": [
    "#### List all possible classes\n",
    "For us, this will be all the skin diseases"
   ]
  },
  {
   "cell_type": "code",
   "execution_count": 4,
   "metadata": {},
   "outputs": [],
   "source": [
    "class_names = ['T-shirt/top', 'Trouser', 'Pullover', 'Dress', 'Coat',\n",
    "               'Sandal', 'Shirt', 'Sneaker', 'Bag', 'Ankle boot']"
   ]
  },
  {
   "cell_type": "markdown",
   "metadata": {},
   "source": [
    "#### Make images smaller\n",
    "We can put a filter on the images here, or we can do it later."
   ]
  },
  {
   "cell_type": "code",
   "execution_count": 5,
   "metadata": {},
   "outputs": [],
   "source": [
    "train_images = train_images/255.0\n",
    "test_images = test_images/255.0"
   ]
  },
  {
   "cell_type": "markdown",
   "metadata": {},
   "source": [
    "#### Build a basic CNN\n",
    "In the future, we can change the activation function for different layers.<br>\n",
    "Documentation for keras.Sequential: https://keras.io/models/sequential/ <br>\n",
    "Documentation for keras layers: https://keras.io/layers/about-keras-layers/ <br>\n",
    "Documentation for built in keras activation functions: https://keras.io/activations/"
   ]
  },
  {
   "cell_type": "code",
   "execution_count": 6,
   "metadata": {},
   "outputs": [],
   "source": [
    "model = keras.Sequential([ # Sequential makes all keras.layers in array into nerual network\n",
    "    keras.layers.Flatten(input_shape=(28,28)),   # INPUT: Flattening data makes it so it can be passed to each neuron\n",
    "    keras.layers.Dense(128, activation='relu'),  # HIDDEN: Dense means a fully connected layer\n",
    "    keras.layers.Dense(10, activation='softmax') # OUTPUT: Softmax picks values for each neuron so all values add up to 1\n",
    "])"
   ]
  },
  {
   "cell_type": "code",
   "execution_count": 14,
   "metadata": {},
   "outputs": [
    {
     "data": {
      "image/png": "[encoded data removed]",
      "text/plain": [
       "<IPython.core.display.Image object>"
      ]
     },
     "execution_count": 14,
     "metadata": {},
     "output_type": "execute_result"
    }
   ],
   "source": [
    "plot_model(model, show_shapes='True')"
   ]
  },
  {
   "cell_type": "markdown",
   "metadata": {},
   "source": [
    "#### Define the optimizer, loss function, and which metrics we want to keep track of\n",
    "We can customize these in the future.\n",
    "- **Optimizer**- shapes model into most accurate form possible by adjusting weights. It uses the loss function to see if it is moving in the right or wrong direction when adjusting the weights.\n",
    "    - Gradient descent is one of the most popular optimizers (Gradient descent is covered in Calc 2, btw).\n",
    "    - Reference this webpage to see a good description of different optimizers and other helpful machine learning concepts: https://algorithmia.com/blog/introduction-to-optimizers\n",
    "    - Documentation for keras built in optimizers: https://keras.io/optimizers/\n",
    "- **Loss Function**- mathmatical way of measuring how wrong your predictions are. \n",
    "    - If the learning rate is too big, our model might skip over the optimal weight for a node.\n",
    "    - If it is too small, it will take too long to process the data. \n",
    "    - Documentation for keras built in loss functions: https://keras.io/losses/\n",
    "- **Metrics**-\n",
    "    - Documentation for keras built in metrics: https://keras.io/metrics/\n",
    "        - This documentation sucks.\n"
   ]
  },
  {
   "cell_type": "code",
   "execution_count": 8,
   "metadata": {},
   "outputs": [],
   "source": [
    "model.compile(optimizer='adam', loss='sparse_categorical_crossentropy', metrics=['accuracy', 'categorical_accuracy'])"
   ]
  },
  {
   "cell_type": "markdown",
   "metadata": {},
   "source": [
    "#### Train the model\n",
    "**Epochs**- the number of times we go put the training data through the model. (In the future we will increase it. I just left it at 15 to be fast.)"
   ]
  },
  {
   "cell_type": "code",
   "execution_count": 9,
   "metadata": {},
   "outputs": [
    {
     "name": "stdout",
     "output_type": "stream",
     "text": [
      "Train on 60000 samples\n",
      "Epoch 1/15\n",
      "60000/60000 [==============================] - 6s 93us/sample - loss: 0.4977 - accuracy: 0.8274 - categorical_accuracy: 0.1035\n",
      "Epoch 2/15\n",
      "60000/60000 [==============================] - 5s 82us/sample - loss: 0.3788 - accuracy: 0.8626 - categorical_accuracy: 0.1041\n",
      "Epoch 3/15\n",
      "60000/60000 [==============================] - 5s 81us/sample - loss: 0.3405 - accuracy: 0.8759 - categorical_accuracy: 0.10331s - loss: 0.3397 - accuracy: 0.8770 - catego\n",
      "Epoch 4/15\n",
      "60000/60000 [==============================] - 5s 84us/sample - loss: 0.3147 - accuracy: 0.8847 - categorical_accuracy: 0.1029\n",
      "Epoch 5/15\n",
      "60000/60000 [==============================] - 5s 86us/sample - loss: 0.3000 - accuracy: 0.8893 - categorical_accuracy: 0.1038\n",
      "Epoch 6/15\n",
      "60000/60000 [==============================] - 5s 89us/sample - loss: 0.2820 - accuracy: 0.8956 - categorical_accuracy: 0.1030\n",
      "Epoch 7/15\n",
      "60000/60000 [==============================] - 5s 87us/sample - loss: 0.2694 - accuracy: 0.9000 - categorical_accuracy: 0.1027\n",
      "Epoch 8/15\n",
      "60000/60000 [==============================] - 5s 88us/sample - loss: 0.2593 - accuracy: 0.9028 - categorical_accuracy: 0.1023\n",
      "Epoch 9/15\n",
      "60000/60000 [==============================] - 5s 90us/sample - loss: 0.2496 - accuracy: 0.9079 - categorical_accuracy: 0.1020\n",
      "Epoch 10/15\n",
      "60000/60000 [==============================] - 6s 92us/sample - loss: 0.2416 - accuracy: 0.9094 - categorical_accuracy: 0.1020\n",
      "Epoch 11/15\n",
      "60000/60000 [==============================] - 6s 93us/sample - loss: 0.2315 - accuracy: 0.9140 - categorical_accuracy: 0.1020\n",
      "Epoch 12/15\n",
      "60000/60000 [==============================] - 5s 91us/sample - loss: 0.2239 - accuracy: 0.9163 - categorical_accuracy: 0.1019\n",
      "Epoch 13/15\n",
      "60000/60000 [==============================] - 5s 87us/sample - loss: 0.2192 - accuracy: 0.9184 - categorical_accuracy: 0.1017\n",
      "Epoch 14/15\n",
      "60000/60000 [==============================] - 5s 84us/sample - loss: 0.2109 - accuracy: 0.9213 - categorical_accuracy: 0.1015\n",
      "Epoch 15/15\n",
      "60000/60000 [==============================] - 5s 90us/sample - loss: 0.2057 - accuracy: 0.9218 - categorical_accuracy: 0.1014\n"
     ]
    },
    {
     "data": {
      "text/plain": [
       "<tensorflow.python.keras.callbacks.History at 0x17d1fcbbb48>"
      ]
     },
     "execution_count": 9,
     "metadata": {},
     "output_type": "execute_result"
    }
   ],
   "source": [
    "model.fit(train_images, train_labels, epochs=15)"
   ]
  },
  {
   "cell_type": "markdown",
   "metadata": {},
   "source": [
    "#### Make predictions using test data"
   ]
  },
  {
   "cell_type": "code",
   "execution_count": 10,
   "metadata": {},
   "outputs": [],
   "source": [
    "prediction = model.predict(test_images)"
   ]
  },
  {
   "cell_type": "markdown",
   "metadata": {},
   "source": [
    "#### Show image with prediciton and actual label"
   ]
  },
  {
   "cell_type": "code",
   "execution_count": 11,
   "metadata": {},
   "outputs": [
    {
     "data": {
      "image/png": "[encoded data removed]",
      "text/plain": [
       "<Figure size 432x288 with 1 Axes>"
      ]
     },
     "metadata": {
      "needs_background": "light"
     },
     "output_type": "display_data"
    }
   ],
   "source": [
    "i = 0 # There used to be a loop here, it just looked messy to print out so many graphs\n",
    "plt.grid(False)\n",
    "plt.imshow(test_images[i])\n",
    "plt.xlabel(\"Actual: \" + class_names[test_labels[i]])\n",
    "plt.title(\"Prediction: \" + class_names[np.argmax(prediction[i])])\n",
    "plt.show()"
   ]
  }
 ],
 "metadata": {
  "kernelspec": {
   "display_name": "Python 3",
   "language": "python",
   "name": "python3"
  },
  "language_info": {
   "codemirror_mode": {
    "name": "ipython",
    "version": 3
   },
   "file_extension": ".py",
   "mimetype": "text/x-python",
   "name": "python",
   "nbconvert_exporter": "python",
   "pygments_lexer": "ipython3",
   "version": "3.7.4"
  }
 },
 "nbformat": 4,
 "nbformat_minor": 4
}
