{
 "cells": [
  {
   "cell_type": "markdown",
   "metadata": {},
   "source": [
    "# Actual Code to remove hair and put into file"
   ]
  },
  {
   "cell_type": "code",
   "execution_count": 12,
   "metadata": {},
   "outputs": [],
   "source": [
    "import os\n",
    "import cv2\n",
    "import matplotlib.pyplot as plt\n",
    "import numpy as np\n",
    "import threading\n",
    "# import sys\n",
    "\n",
    "# import time, random\n",
    "# from atpbar import atpbar\n",
    "\n",
    "path = '../../removed_hair_images2/'\n",
    "\n",
    "# try:\n",
    "#     os.mkdir(path)\n",
    "# except OSError:\n",
    "#     print (\"Creation of the directory %s failed\" % path)\n",
    "# else:\n",
    "#     print (\"Successfully created the directory %s \" % path)\n",
    "\n",
    "imageNames = [\n",
    "    \"5436e3c6bae478396759f233.jpg\",\n",
    "    \"5aaf1253116597691362835b.jpg\",\n",
    "    \"5aaf12ba116597691362b671.jpg\",\n",
    "    \"5aaf13841165976913631d42.jpg\",\n",
    "    \"5aaf1320116597691362ea91.jpg\",\n",
    "    \"5592cfca9fc3c131551458e7.jpg\",\n",
    "    \"5436e3b8bae478396759f18d.jpg\"\n",
    "]\n",
    "numberOfProcessedImages = 0"
   ]
  },
  {
   "cell_type": "code",
   "execution_count": 13,
   "metadata": {},
   "outputs": [
    {
     "name": "stdout",
     "output_type": "stream",
     "text": [
      "1210\n",
      "C:/Users/ava/Desktop/KSU/Year 4/Spring 2020/Senior Project/NewCroppedImages/NewCroppedImages\\5436e3abbae478396759f0cf.jpg\n"
     ]
    }
   ],
   "source": [
    "import os\n",
    "import glob\n",
    "img_dir = \"C:/Users/ava/Desktop/KSU/Year 4/Spring 2020/Senior Project/NewCroppedImages/NewCroppedImages/\" # Enter Directory of all images \n",
    "data_path = os.path.join(img_dir,'*g')\n",
    "files = glob.glob(data_path)\n",
    "imageNames = []\n",
    "\n",
    "for f1 in files:\n",
    "#     img = cv2.imread(f1)\n",
    "#     name = f1[-28: -4]\n",
    "    imageNames.append(f1)\n",
    "    \n",
    "print(len(imageNames))\n",
    "print(imageNames[0])"
   ]
  },
  {
   "cell_type": "code",
   "execution_count": 14,
   "metadata": {},
   "outputs": [],
   "source": [
    "\n",
    "lck = threading.Lock()\n",
    "\n",
    "def writeToFile(index, img):\n",
    "    global lck\n",
    "    lck.acquire()\n",
    "    global numberOfProcessedImages\n",
    "    cv2.imwrite(path + imageNames[index][-28:], img)\n",
    "    numberOfProcessedImages = numberOfProcessedImages + 1\n",
    "    print(str(\"Processed: \" + str(numberOfProcessedImages) + \"/\" + str(len(imageNames)) + \" ==> \" + str(round((numberOfProcessedImages / len(imageNames)), 3) * 100) + \"%\"),\n",
    "          end=\"                         \\r\", flush=True)\n",
    "    lck.release()"
   ]
  },
  {
   "cell_type": "code",
   "execution_count": 15,
   "metadata": {},
   "outputs": [],
   "source": [
    "def zipCoordinates(edges):\n",
    "    indices = np.where(edges >= [40])\n",
    "    coordinates = zip(indices[0], indices[1])\n",
    "    return coordinates\n",
    "\n",
    "def getBlackHighlights(img, edgeCoordinates):\n",
    "    for c in edgeCoordinates:\n",
    "        img[c[0], c[1]] = [0,0,0]\n",
    "    \n",
    "    return img"
   ]
  },
  {
   "cell_type": "code",
   "execution_count": 16,
   "metadata": {},
   "outputs": [],
   "source": [
    "def getCoordinates(index, radius, w, h):\n",
    "#     startingCorner = [index[0] - radius, index[1] - radius]\n",
    "    result = []\n",
    "    for i in range(index[0] - radius, index[0] + radius + 1):\n",
    "        if i >= h:\n",
    "            break\n",
    "        if i >= 0:\n",
    "            for j in range(index[1] - radius, index[1] + radius + 1):\n",
    "                if j >= w:\n",
    "                    break\n",
    "                if j >= 0:\n",
    "                    result.append([i, j])\n",
    "\n",
    "            \n",
    "#     print(result)\n",
    "    return result"
   ]
  },
  {
   "cell_type": "code",
   "execution_count": 17,
   "metadata": {},
   "outputs": [],
   "source": [
    "from statistics import mean \n",
    "from random import randint\n",
    "\n",
    "def blurHairs2(img, edges, imageWithBlack):\n",
    "    indices = np.where(edges >= [40])\n",
    "    coordinates = zip(indices[0], indices[1])\n",
    "    \n",
    "    img2 =  img      \n",
    "    h, w, c = img2.shape\n",
    "#     print(h, w, c)\n",
    "\n",
    "    for c in coordinates:\n",
    "        x = c[0]\n",
    "        y = c[1]\n",
    "        r = 0\n",
    "        g = 0\n",
    "        b = 0\n",
    "        count = 0\n",
    "        exceptions = 0\n",
    "        tempCoordinates = getCoordinates([x,y], randint(4, 15), w, h)#[[x, y+1], [x, y-1], [x+1, y], [x+1, y+1], [x+1, y-1], [x-1, y], [x-1, y+1], [x-1, y-1]]\n",
    "        for c2 in tempCoordinates:\n",
    "            x2 = c2[0]\n",
    "            y2 = c2[1]\n",
    "            try:\n",
    "                if imageWithBlack[x2, y2][0] != 0 and imageWithBlack[x2, y2][1] != 0 and imageWithBlack[x2, y2][2] != 0:\n",
    "                    r = r + img2[x2, y2][0]\n",
    "                    g = g + img2[x2, y2][1]\n",
    "                    b = b + img2[x2, y2][2]\n",
    "                    count = count + 1\n",
    "            except:\n",
    "                exceptions = exceptions + 1\n",
    "            if count > 0:\n",
    "                img2[x,y] = [r/count, g/count, b/count]\n",
    "\n",
    "    return img2"
   ]
  },
  {
   "cell_type": "code",
   "execution_count": 18,
   "metadata": {},
   "outputs": [],
   "source": [
    "def resizeImage(src, scale_percent):\n",
    "\n",
    "    #calculate the 50 percent of original dimensions\n",
    "    width = int(src.shape[1] * scale_percent / 100)\n",
    "    height = int(src.shape[0] * scale_percent / 100)\n",
    "\n",
    "    # dsize\n",
    "    dsize = (width, height)\n",
    "\n",
    "    # resize image\n",
    "    return cv2.resize(src, dsize)"
   ]
  },
  {
   "cell_type": "code",
   "execution_count": 19,
   "metadata": {},
   "outputs": [],
   "source": [
    "def removeHairs(imageIndex):\n",
    "\n",
    "    img =  cv2.cvtColor(cv2.imread(imageNames[imageIndex]), cv2.COLOR_BGR2RGB)\n",
    "    img = resizeImage(img, 50)\n",
    "\n",
    "    image = cv2.imread(imageNames[imageIndex],0) # load as 1-channel 8bit grayscale\n",
    "    image = resizeImage(image, 50)\n",
    "\n",
    "    edges = cv2.Canny(image,100,200)\n",
    "#     print(imageIndex, \"edges\")\n",
    "    \n",
    "    edges2 =cv2.bilateralFilter(edges,7,300,9)\n",
    "#     print(imageIndex, \"edges2\")\n",
    "    \n",
    "    edgeCoordinates = zipCoordinates(edges2)\n",
    "#     plt.imshow(img)\n",
    "    blackHighlights = getBlackHighlights(img, edgeCoordinates)\n",
    "#     print(imageIndex, \"blackHighlights\")\n",
    "    \n",
    "    final = blurHairs2(img, edges2, blackHighlights)\n",
    "\n",
    "    writeToFile(imageIndex,  cv2.cvtColor(final, cv2.COLOR_RGB2BGR))"
   ]
  },
  {
   "cell_type": "code",
   "execution_count": 9,
   "metadata": {},
   "outputs": [
    {
     "name": "stdout",
     "output_type": "stream",
     "text": [
      "Processed: 539/1212 ==> 44.5%                                                                                                                 \n",
      "Done\n",
      "Processed: 1204/1212 ==> 99.3%                                                                                                                                                                                                                                                                       \r"
     ]
    }
   ],
   "source": [
    "import time\n",
    "numberOfStartedImages = 20\n",
    "\n",
    "threads = []\n",
    "def startNewThreads(numberOfStartedImages):\n",
    "    temp = numberOfStartedImages\n",
    "    for t in threads:\n",
    "        if t.isAlive() == False:\n",
    "            t = threading.Thread(target = removeHairs, args = (temp, ))\n",
    "            t.start()\n",
    "            temp = temp + 1\n",
    "#             if temp % 10 == 0:\n",
    "#                 print(\"numberOfStartedImages\", temp)\n",
    "    return temp\n",
    "\n",
    "\n",
    "for i in range(numberOfStartedImages):\n",
    "    t = threading.Thread(target = removeHairs, args = (i, ))\n",
    "    threads.append(t)\n",
    "    t.start()\n",
    "    time.sleep(0.5)\n",
    "\n",
    "while numberOfStartedImages < 1202:\n",
    "    temp = numberOfStartedImages\n",
    "    numberOfStartedImages = startNewThreads(numberOfStartedImages)\n",
    "    if numberOfStartedImages == temp:\n",
    "        time.sleep(1)\n",
    "        \n",
    "for t in threads:\n",
    "    t.join()\n",
    "    \n",
    "print('\\nDone')\n"
   ]
  },
  {
   "cell_type": "code",
   "execution_count": 20,
   "metadata": {},
   "outputs": [
    {
     "name": "stdout",
     "output_type": "stream",
     "text": [
      "Processed: 1122/1210 ==> 92.7%                                                                                                                                                                                                                                                                                                                                                                                                                                                                                                                                                                                                            \n",
      "Done\n",
      "Processed: 1204/1210 ==> 99.5%                                                               \r"
     ]
    }
   ],
   "source": [
    "import time\n",
    "numberOfStartedImages = 0\n",
    "maxThreads = 6\n",
    "\n",
    "threads = []\n",
    "def startNewThreads(numberOfStartedImages):\n",
    "    temp = numberOfStartedImages\n",
    "    for t in threads:\n",
    "        if t.isAlive() == False:\n",
    "            t = threading.Thread(target = removeHairs, args = (temp, ))\n",
    "            t.start()\n",
    "            temp = temp + 1\n",
    "#             if temp % 10 == 0:\n",
    "#             global numberOfProcessedImages\n",
    "#             print(\"numberOfStartedImages:\", temp, \"numberOdProcessedImages:\", numberOfProcessedImages)\n",
    "            if temp - numberOfStartedImages >= maxThreads:\n",
    "                return temp\n",
    "    return temp\n",
    "\n",
    "\n",
    "for i in range(maxThreads):\n",
    "    t = threading.Thread(target = removeHairs, args = (i, ))\n",
    "    threads.append(t)\n",
    "    t.start()\n",
    "    numberOfStartedImages = numberOfStartedImages + 1\n",
    "#     print(\"numberOfStartedImages:\", numberOfStartedImages, \"numberOdProcessedImages:\", numberOfProcessedImages)\n",
    "    time.sleep(1)\n",
    "\n",
    "while numberOfStartedImages < 1202:\n",
    "    temp = numberOfStartedImages\n",
    "    numberOfStartedImages = startNewThreads(numberOfStartedImages)\n",
    "    if numberOfStartedImages == temp:\n",
    "        time.sleep(5)\n",
    "    else:\n",
    "        time.sleep(30)\n",
    "        \n",
    "for t in threads:\n",
    "    t.join()\n",
    "    \n",
    "print('\\nDone')"
   ]
  },
  {
   "cell_type": "code",
   "execution_count": 21,
   "metadata": {},
   "outputs": [
    {
     "name": "stdout",
     "output_type": "stream",
     "text": [
      "Processed: 1210/1210 ==> 100.0%                         \n",
      "Done\n"
     ]
    }
   ],
   "source": [
    "threads = []\n",
    "\n",
    "for i in range(6):\n",
    "    t = threading.Thread(target = removeHairs, args = (1204+i, ))\n",
    "    threads.append(t)\n",
    "    t.start()\n",
    "#     numberOfStartedImages = numberOfStartedImages + 1\n",
    "#     print(\"numberOfStartedImages:\", numberOfStartedImages, \"numberOdProcessedImages:\", numberOfProcessedImages)\n",
    "    time.sleep(5)\n",
    "    \n",
    "for t in threads:\n",
    "    t.join()\n",
    "    \n",
    "print('\\nDone')"
   ]
  },
  {
   "cell_type": "code",
   "execution_count": null,
   "metadata": {},
   "outputs": [],
   "source": []
  }
 ],
 "metadata": {
  "kernelspec": {
   "display_name": "Python 3",
   "language": "python",
   "name": "python3"
  },
  "language_info": {
   "codemirror_mode": {
    "name": "ipython",
    "version": 3
   },
   "file_extension": ".py",
   "mimetype": "text/x-python",
   "name": "python",
   "nbconvert_exporter": "python",
   "pygments_lexer": "ipython3",
   "version": "3.7.4"
  }
 },
 "nbformat": 4,
 "nbformat_minor": 4
}
