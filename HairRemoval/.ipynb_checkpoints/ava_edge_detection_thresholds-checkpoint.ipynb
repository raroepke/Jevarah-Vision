{
 "cells": [
  {
   "cell_type": "code",
   "execution_count": null,
   "metadata": {},
   "outputs": [],
   "source": [
    "import cv2\n",
    "import matplotlib.pyplot as plt\n",
    "from matplotlib.colors import hsv_to_rgb\n",
    "import numpy as np\n",
    "from mpl_toolkits.mplot3d import Axes3D\n",
    "from matplotlib import cm\n",
    "from matplotlib import colors\n",
    "import colorsys\n",
    "\n",
    "imageNames = [\n",
    "    \"5436e3c6bae478396759f233.jpg\",\n",
    "    \"5aaf1253116597691362835b.jpg\",\n",
    "    \"5aaf12ba116597691362b671.jpg\",\n",
    "    \"5aaf13841165976913631d42.jpg\",\n",
    "    \"5aaf1320116597691362ea91.jpg\",\n",
    "    \"5592cfca9fc3c131551458e7.jpg\",\n",
    "    \"5436e3b8bae478396759f18d.jpg\"\n",
    "]\n",
    "\n",
    "def readAndConvert(image):\n",
    "    im = cv2.imread(image)\n",
    "    return cv2.cvtColor(im, cv2.COLOR_BGR2RGB)\n",
    "\n",
    "images = [readAndConvert(image)for image in imageNames]\n",
    "\n",
    "colorSpaceCount = 6\n",
    "\n",
    "RGB = \"RGB\"\n",
    "HSV = \"HSV\"\n",
    "LUV = \"LUV\"\n",
    "LUV_INVERTED = \"LUV_INVERTED\"\n",
    "XYZ = \"XYZ\"\n",
    "# \"YUV\": cv2.cvtColor(im_luv, cv2.COLOR_RGB2YUV),\n",
    "HSL = \"HSL\"\n",
    "# GRAY = \"GRAY\"\n",
    "\n",
    "def getImageSpaces(im_RGB):\n",
    "    return {\n",
    "        RGB: im_RGB,\n",
    "        HSV: cv2.cvtColor(im_RGB, cv2.COLOR_RGB2HSV),\n",
    "        LUV: cv2.cvtColor(im_RGB, cv2.COLOR_RGB2LUV),\n",
    "        LUV_INVERTED: cv2.bitwise_not(cv2.cvtColor(im_RGB, cv2.COLOR_RGB2LUV)),\n",
    "        XYZ: cv2.cvtColor(im_RGB, cv2.COLOR_RGB2XYZ),\n",
    "        # \"YUV\": cv2.cvtColor(im_luv, cv2.COLOR_RGB2YUV),\n",
    "        HSL: cv2.cvtColor(im_RGB, cv2.COLOR_RGB2HLS)\n",
    "#         GRAY: cv2.cvtColor(im_RGB, cv2.COLOR_RGB2GRAY)\n",
    "\n",
    "    }\n"
   ]
  },
  {
   "cell_type": "code",
   "execution_count": null,
   "metadata": {},
   "outputs": [],
   "source": [
    "def sobel_edge_detection(image, filter, convert_to_degree=False, verbose=False):\n",
    "    gradient_direction = np.arctan2(new_image_y, new_image_x)\n",
    " \n",
    "    if convert_to_degree:\n",
    "        gradient_direction = np.rad2deg(gradient_direction)\n",
    "        gradient_direction += 180\n",
    "\n",
    "    return gradient_magnitude, gradient_direction"
   ]
  }
 ],
 "metadata": {
  "kernelspec": {
   "display_name": "Python 3",
   "language": "python",
   "name": "python3"
  },
  "language_info": {
   "codemirror_mode": {
    "name": "ipython",
    "version": 3
   },
   "file_extension": ".py",
   "mimetype": "text/x-python",
   "name": "python",
   "nbconvert_exporter": "python",
   "pygments_lexer": "ipython3",
   "version": "3.7.4"
  }
 },
 "nbformat": 4,
 "nbformat_minor": 4
}
