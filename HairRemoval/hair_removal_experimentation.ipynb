{
 "cells": [
  {
   "cell_type": "markdown",
   "metadata": {
    "jupyter": {
     "source_hidden": true
    }
   },
   "source": [
    "## Testing Color Spaces\n",
    "https://realpython.com/python-opencv-color-spaces/"
   ]
  },
  {
   "cell_type": "code",
   "execution_count": 1,
   "metadata": {},
   "outputs": [
    {
     "ename": "ModuleNotFoundError",
     "evalue": "No module named 'cv2'",
     "output_type": "error",
     "traceback": [
      "\u001b[1;31m---------------------------------------------------------------------------\u001b[0m",
      "\u001b[1;31mModuleNotFoundError\u001b[0m                       Traceback (most recent call last)",
      "\u001b[1;32m<ipython-input-1-d6c567869781>\u001b[0m in \u001b[0;36m<module>\u001b[1;34m\u001b[0m\n\u001b[1;32m----> 1\u001b[1;33m \u001b[1;32mimport\u001b[0m \u001b[0mcv2\u001b[0m\u001b[1;33m\u001b[0m\u001b[1;33m\u001b[0m\u001b[0m\n\u001b[0m\u001b[0;32m      2\u001b[0m \u001b[1;32mimport\u001b[0m \u001b[0mmatplotlib\u001b[0m\u001b[1;33m.\u001b[0m\u001b[0mpyplot\u001b[0m \u001b[1;32mas\u001b[0m \u001b[0mplt\u001b[0m\u001b[1;33m\u001b[0m\u001b[1;33m\u001b[0m\u001b[0m\n\u001b[0;32m      3\u001b[0m \u001b[1;32mfrom\u001b[0m \u001b[0mmatplotlib\u001b[0m\u001b[1;33m.\u001b[0m\u001b[0mcolors\u001b[0m \u001b[1;32mimport\u001b[0m \u001b[0mhsv_to_rgb\u001b[0m\u001b[1;33m\u001b[0m\u001b[1;33m\u001b[0m\u001b[0m\n\u001b[0;32m      4\u001b[0m \u001b[1;32mimport\u001b[0m \u001b[0mnumpy\u001b[0m \u001b[1;32mas\u001b[0m \u001b[0mnp\u001b[0m\u001b[1;33m\u001b[0m\u001b[1;33m\u001b[0m\u001b[0m\n\u001b[0;32m      5\u001b[0m \u001b[1;32mfrom\u001b[0m \u001b[0mmpl_toolkits\u001b[0m\u001b[1;33m.\u001b[0m\u001b[0mmplot3d\u001b[0m \u001b[1;32mimport\u001b[0m \u001b[0mAxes3D\u001b[0m\u001b[1;33m\u001b[0m\u001b[1;33m\u001b[0m\u001b[0m\n",
      "\u001b[1;31mModuleNotFoundError\u001b[0m: No module named 'cv2'"
     ]
    }
   ],
   "source": [
    "import cv2\n",
    "import matplotlib.pyplot as plt\n",
    "from matplotlib.colors import hsv_to_rgb\n",
    "import numpy as np\n",
    "from mpl_toolkits.mplot3d import Axes3D\n",
    "from matplotlib import cm\n",
    "from matplotlib import colors\n",
    "import colorsys"
   ]
  },
  {
   "cell_type": "code",
   "execution_count": null,
   "metadata": {},
   "outputs": [],
   "source": [
    "imageNames = [\n",
    "    \"5436e3c6bae478396759f233.jpg\",\n",
    "    \"5aaf1253116597691362835b.jpg\",\n",
    "    \"5aaf12ba116597691362b671.jpg\",\n",
    "    \"5aaf13841165976913631d42.jpg\",\n",
    "    \"5aaf1320116597691362ea91.jpg\",\n",
    "    \"5592cfca9fc3c131551458e7.jpg\",\n",
    "    \"5436e3b8bae478396759f18d.jpg\"\n",
    "]\n",
    "\n",
    "def readAndConvert(image):\n",
    "    im = cv2.imread(image)\n",
    "    return cv2.cvtColor(im, cv2.COLOR_BGR2RGB)\n",
    "\n",
    "images = [readAndConvert(image)for image in imageNames]\n",
    "\n",
    "colorSpaceCount = 6\n",
    "\n",
    "RGB = \"RGB\"\n",
    "HSV = \"HSV\"\n",
    "LUV = \"LUV\"\n",
    "LUV_INVERTED = \"LUV_INVERTED\"\n",
    "XYZ = \"XYZ\"\n",
    "# \"YUV\": cv2.cvtColor(im_luv, cv2.COLOR_RGB2YUV),\n",
    "HSL = \"HSL\"\n",
    "# GRAY = \"GRAY\"\n",
    "\n",
    "def getImageSpaces(im_RGB):\n",
    "    return {\n",
    "        RGB: im_RGB,\n",
    "        HSV: cv2.cvtColor(im_RGB, cv2.COLOR_RGB2HSV),\n",
    "        LUV: cv2.cvtColor(im_RGB, cv2.COLOR_RGB2LUV),\n",
    "        LUV_INVERTED: cv2.bitwise_not(cv2.cvtColor(im_RGB, cv2.COLOR_RGB2LUV)),\n",
    "        XYZ: cv2.cvtColor(im_RGB, cv2.COLOR_RGB2XYZ),\n",
    "        # \"YUV\": cv2.cvtColor(im_luv, cv2.COLOR_RGB2YUV),\n",
    "        HSL: cv2.cvtColor(im_RGB, cv2.COLOR_RGB2HLS)\n",
    "#         GRAY: cv2.cvtColor(im_RGB, cv2.COLOR_RGB2GRAY)\n",
    "    }\n",
    "\n",
    "def getSpaceLabels(space):\n",
    "    if space is RGB:\n",
    "        return [\"Red\", \"Green\", \"Blue\"]\n",
    "    elif space is HSV:\n",
    "        return [\"Hue\", \"Saturation\", \"Value\"]\n",
    "    else:\n",
    "        return [\"x_label\", \"y_label\", \"z_label\"]\n"
   ]
  },
  {
   "cell_type": "code",
   "execution_count": null,
   "metadata": {},
   "outputs": [],
   "source": [
    "fig, axs = plt.subplots(colorSpaceCount, len(imageNames), figsize=(15,15))\n",
    "# fig.suptitle('Color Spaces')\n",
    "fig.tight_layout(pad=1.0)\n",
    "\n",
    "for i in range(len(images)):\n",
    "    im = cv2.imread(imageNames[i])\n",
    "    im_RGB = cv2.cvtColor(im, cv2.COLOR_BGR2RGB)\n",
    "    imageSpaces = getImageSpaces(im_RGB)\n",
    "    \n",
    "    j = 0\n",
    "    for key, value in imageSpaces.items():\n",
    "        axs[j, i].set_title(key)\n",
    "        axs[j, i].imshow(value)\n",
    "        j = j +1\n"
   ]
  },
  {
   "cell_type": "markdown",
   "metadata": {},
   "source": [
    "## Color Visualization"
   ]
  },
  {
   "cell_type": "code",
   "execution_count": null,
   "metadata": {},
   "outputs": [],
   "source": [
    "# Parameters: image converted to desired color space\n",
    "def getPixelColors(im):\n",
    "    pixel_colors = im.reshape((np.shape(im)[0]*np.shape(im)[1], 3))\n",
    "    norm = colors.Normalize(vmin=-1.,vmax=1.)\n",
    "    norm.autoscale(pixel_colors)\n",
    "    pixel_colors = norm(pixel_colors).tolist()\n",
    "    return pixel_colors"
   ]
  },
  {
   "cell_type": "code",
   "execution_count": null,
   "metadata": {},
   "outputs": [],
   "source": [
    "# Parameters: \n",
    "    # im: image in desired color space\n",
    "    # pixel_colors: colors to be displayed on graph\n",
    "    # labels: [\"xlabel\", \"ylabel\", \"zlabel\"]\n",
    "def graphColorSpace(im, pixel_colors, labels, title = \"\"):\n",
    "    x, y, z = cv2.split(im)\n",
    "    fig = plt.figure()\n",
    "    fig.label = title\n",
    "    axis = fig.add_subplot(1, 1, 1, projection=\"3d\", title=title)\n",
    "\n",
    "    axis.scatter(x.flatten(), y.flatten(), z.flatten(), facecolors=pixel_colors, marker=\".\")\n",
    "    axis.set_xlabel(labels[0])\n",
    "    axis.set_ylabel(labels[1])\n",
    "    axis.set_zlabel(labels[2])\n",
    "    plt.show()\n",
    "#     return fig"
   ]
  },
  {
   "cell_type": "code",
   "execution_count": null,
   "metadata": {},
   "outputs": [],
   "source": [
    "def visualizeColorSpace(im_RGB, space, color):\n",
    "    imageSpaces = getImageSpaces(im_RGB)\n",
    "    \n",
    "    im = imageSpaces[space]\n",
    "    pixel_colors = getPixelColors(imageSpaces[color])\n",
    "    labels = getSpaceLabels(space)\n",
    "            \n",
    "    graphColorSpace(im, pixel_colors, labels, \"Position: \" + space + \" Color: \" + color)\n",
    "        "
   ]
  },
  {
   "cell_type": "code",
   "execution_count": null,
   "metadata": {},
   "outputs": [],
   "source": [
    "im2 = cv2.imread(imageNames[0])\n",
    "im_RGB2 = cv2.cvtColor(im2, cv2.COLOR_BGR2RGB)\n",
    "visualizeColorSpace(im_RGB2, RGB, RGB)\n",
    "visualizeColorSpace(im_RGB2, HSV, RGB)\n",
    "visualizeColorSpace(im_RGB2, HSV, HSV)"
   ]
  },
  {
   "cell_type": "code",
   "execution_count": null,
   "metadata": {},
   "outputs": [],
   "source": [
    "# fig, axs = plt.subplots(colorSpaceCount, len(imageNames), figsize=(30,30))\n",
    "# # fig.suptitle('Color Spaces')\n",
    "# fig.tight_layout(pad=1.0)\n",
    "\n",
    "# for i in range(len(imageNames)):\n",
    "#     im_RGB = images[i]\n",
    "#     imageSpaces = getImageSpaces(im_RGB)\n",
    "    \n",
    "#     j = 0\n",
    "#     for key, value in imageSpaces.items():\n",
    "#         axs[j, i].imshow(visualizeColorSpace(im_RGB, key, RGB))\n",
    "#         j = j +1\n",
    "\n",
    "# for i in range(len(imageNames)):\n",
    "#     im_RGB = images[i]\n",
    "#     imageSpaces = getImageSpaces(im_RGB)\n",
    "    \n",
    "#     j = 0\n",
    "#     for key, value in imageSpaces.items():\n",
    "#         axs[j, i].imshow(value)\n",
    "#         j = j +1"
   ]
  },
  {
   "cell_type": "code",
   "execution_count": null,
   "metadata": {},
   "outputs": [],
   "source": [
    "for i in range(len(imageNames)):\n",
    "    im_RGB = images[i]\n",
    "    imageSpaces = getImageSpaces(im_RGB)\n",
    "    \n",
    "    j = 0\n",
    "    for key, value in imageSpaces.items():\n",
    "        visualizeColorSpace(im_RGB, key, RGB)\n"
   ]
  },
  {
   "cell_type": "markdown",
   "metadata": {},
   "source": [
    "# Color Masking"
   ]
  },
  {
   "cell_type": "code",
   "execution_count": null,
   "metadata": {},
   "outputs": [],
   "source": [
    "def stupid_rgb_to_hsv_to_rgb_conversion(rgbColors):\n",
    "    blah = colorsys.rgb_to_hsv(rgbColors[0], rgbColors[1], rgbColors[2])\n",
    "    blah2 = colorsys.hsv_to_rgb(blah[0], blah[1], blah[2])\n",
    "#     print(\"rgb to hsv\", blah)\n",
    "#     print(\"hsv to rgb\", blah2)\n",
    "    return blah2"
   ]
  },
  {
   "cell_type": "code",
   "execution_count": null,
   "metadata": {},
   "outputs": [],
   "source": [
    "def showSquares(light, dark):\n",
    "    lo_square = np.full((10, 10, 3), light, dtype=np.uint8) / 255.0\n",
    "    do_square = np.full((10, 10, 3), dark, dtype=np.uint8) / 255.0\n",
    "\n",
    "    fig2, axs = plt.subplots(1,2)\n",
    "    fig2.suptitle('Colors')\n",
    "\n",
    "    axs[0].set_title('Light')\n",
    "    axs[0].imshow(lo_square)\n",
    "\n",
    "    axs[1].set_title('Dark')\n",
    "    axs[1].imshow(do_square)"
   ]
  },
  {
   "cell_type": "code",
   "execution_count": null,
   "metadata": {},
   "outputs": [],
   "source": [
    "def showSquaresHSV2RGB(light, dark):\n",
    "    lo_square = np.full((10, 10, 3), light, dtype=np.uint8) / 255.0\n",
    "    do_square = np.full((10, 10, 3), dark, dtype=np.uint8) / 255.0\n",
    "\n",
    "    fig2, axs = plt.subplots(1,2)\n",
    "    fig2.suptitle('Colors')\n",
    "\n",
    "    axs[0].set_title('Light')\n",
    "    axs[0].imshow(hsv_to_rgb(lo_square))\n",
    "\n",
    "    axs[1].set_title('Dark')\n",
    "    axs[1].imshow(hsv_to_rgb(do_square))    "
   ]
  },
  {
   "cell_type": "code",
   "execution_count": null,
   "metadata": {},
   "outputs": [],
   "source": [
    "# inputImage = cv2.imread(\"5aaf12ba116597691362b671.jpg\")\n",
    "# inputImageGray = cv2.cvtColor(inputImage, cv2.COLOR_BGR2GRAY)\n",
    "# edges = cv2.Canny(inputImageGray,150,200,apertureSize = 3)\n",
    "# minLineLength = 30\n",
    "# colorsysap = 5\n",
    "# lines = cv2.HoughLinesP(edges,cv2.HOUGH_PROBABILISTIC, np.pi/180, 30, minLineLength,maxLineGap)\n",
    "# for x in range(0, len(lines)):\n",
    "#     for x1,y1,x2,y2 in lines[x]:\n",
    "#         #cv2.line(inputImage,(x1,y1),(x2,y2),(0,128,0),2, cv2.LINE_AA)\n",
    "#         pts = np.array([[x1, y1 ], [x2 , y2]], np.int32)\n",
    "#         cv2.polylines(inputImage, [pts], True, (0,255,0))\n",
    "\n",
    "# font = cv2.FONT_HERSHEY_SIMPLEX\n",
    "# cv2.putText(inputImage,\"Tracks Detected\", (500, 250), font, 0.5, 255)\n",
    "# cv2.imshow(\"Trolley_Problem_Result\", inputImage)\n",
    "# cv2.imshow('edge', edges)"
   ]
  },
  {
   "cell_type": "code",
   "execution_count": 17,
   "metadata": {},
   "outputs": [],
   "source": [
    "def createMask(im_RGB, maskSpace, light_rgb, dark_rgb):\n",
    "#     im_RGB = cv2.cvtColor(im, cv2.COLOR_BGR2RGB)\n",
    "    imageSpaces = getImageSpaces(im_RGB)\n",
    "    \n",
    "    light_hsv = stupid_rgb_to_hsv_to_rgb_conversion(light_rgb)\n",
    "    dark_hsv = stupid_rgb_to_hsv_to_rgb_conversion(dark_rgb)\n",
    "    \n",
    "    showSquares(light_hsv, dark_hsv)\n",
    "    showSquaresHSV2RGB(light_hsv, dark_hsv)\n",
    "    \n",
    "    mask = cv2.inRange(imageSpaces[maskSpace], light_hsv, dark_hsv)\n",
    "    result = cv2.bitwise_and(im_RGB, im_RGB, mask=mask)\n",
    "    plt.subplot(1, 2, 1)\n",
    "    plt.imshow(mask)\n",
    "    plt.subplot(1, 2, 2)\n",
    "    plt.imshow(result)\n",
    "    plt.show()"
   ]
  },
  {
   "cell_type": "code",
   "execution_count": 25,
   "metadata": {},
   "outputs": [
    {
     "data": {
      "image/png": "[encoded data removed]",
      "text/plain": [
       "<Figure size 432x288 with 2 Axes>"
      ]
     },
     "metadata": {
      "needs_background": "light"
     },
     "output_type": "display_data"
    },
    {
     "data": {
      "image/png": "[encoded data removed]",
      "text/plain": [
       "<Figure size 432x288 with 2 Axes>"
      ]
     },
     "metadata": {
      "needs_background": "light"
     },
     "output_type": "display_data"
    }
   ],
   "source": [
    "createMask(images[0], HSV, (153,99,58), (203,220,150))"
   ]
  },
  {
   "cell_type": "code",
   "execution_count": null,
   "metadata": {},
   "outputs": [],
   "source": []
  }
 ],
 "metadata": {
  "kernelspec": {
   "display_name": "Python 3",
   "language": "python",
   "name": "python3"
  },
  "language_info": {
   "codemirror_mode": {
    "name": "ipython",
    "version": 3
   },
   "file_extension": ".py",
   "mimetype": "text/x-python",
   "name": "python",
   "nbconvert_exporter": "python",
   "pygments_lexer": "ipython3",
   "version": "3.7.6"
  }
 },
 "nbformat": 4,
 "nbformat_minor": 4
}
